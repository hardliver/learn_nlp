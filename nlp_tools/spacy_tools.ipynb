{
 "cells": [
  {
   "cell_type": "markdown",
   "metadata": {},
   "source": [
    "# [spaCy](http://spacy.io/docs/#examples) 介绍"
   ]
  },
  {
   "cell_type": "code",
   "execution_count": 1,
   "metadata": {},
   "outputs": [],
   "source": [
    "# 导入工具包和英文模型\n",
    "# python -m spacy download en_core_web_sm 用管理员身份打开CMD\n",
    "\n",
    "import spacy\n",
    "nlp = spacy.load('en_core_web_sm')"
   ]
  },
  {
   "cell_type": "markdown",
   "metadata": {},
   "source": [
    "### 文本处理"
   ]
  },
  {
   "cell_type": "code",
   "execution_count": 2,
   "metadata": {},
   "outputs": [],
   "source": [
    "doc = nlp('Weather is good, very windy and sunny. We have no classes in the afternoon.')"
   ]
  },
  {
   "cell_type": "code",
   "execution_count": 3,
   "metadata": {},
   "outputs": [
    {
     "name": "stdout",
     "output_type": "stream",
     "text": [
      "Weather\n",
      "is\n",
      "good\n",
      ",\n",
      "very\n",
      "windy\n",
      "and\n",
      "sunny\n",
      ".\n",
      "We\n",
      "have\n",
      "no\n",
      "classes\n",
      "in\n",
      "the\n",
      "afternoon\n",
      ".\n"
     ]
    }
   ],
   "source": [
    "# 分词\n",
    "for token in doc:\n",
    "    print (token)"
   ]
  },
  {
   "cell_type": "code",
   "execution_count": 4,
   "metadata": {},
   "outputs": [
    {
     "name": "stdout",
     "output_type": "stream",
     "text": [
      "Weather is good, very windy and sunny.\n",
      "We have no classes in the afternoon.\n"
     ]
    }
   ],
   "source": [
    "#分句\n",
    "for sent in doc.sents:\n",
    "    print (sent)"
   ]
  },
  {
   "cell_type": "markdown",
   "metadata": {},
   "source": [
    "### 词性\n",
    "\n",
    "[参考链接](http://www.winwaed.com/blog/2011/11/08/part-of-speech-tags/)."
   ]
  },
  {
   "cell_type": "code",
   "execution_count": 5,
   "metadata": {},
   "outputs": [
    {
     "name": "stdout",
     "output_type": "stream",
     "text": [
      "Weather-NOUN\n",
      "is-AUX\n",
      "good-ADJ\n",
      ",-PUNCT\n",
      "very-ADV\n",
      "windy-ADJ\n",
      "and-CCONJ\n",
      "sunny-ADJ\n",
      ".-PUNCT\n",
      "We-PRON\n",
      "have-VERB\n",
      "no-DET\n",
      "classes-NOUN\n",
      "in-ADP\n",
      "the-DET\n",
      "afternoon-NOUN\n",
      ".-PUNCT\n"
     ]
    }
   ],
   "source": [
    "for token in doc:\n",
    "    print ('{}-{}'.format(token,token.pos_))"
   ]
  },
  {
   "cell_type": "markdown",
   "metadata": {},
   "source": [
    "## 命名体识别"
   ]
  },
  {
   "cell_type": "code",
   "execution_count": 6,
   "metadata": {},
   "outputs": [
    {
     "name": "stdout",
     "output_type": "stream",
     "text": [
      "Paris-GPE\n",
      "Jack-PERSON\n"
     ]
    }
   ],
   "source": [
    "doc_2 = nlp(\"I went to Paris where I met my old friend Jack from uni.\")\n",
    "for ent in doc_2.ents:\n",
    "    print ('{}-{}'.format(ent,ent.label_))"
   ]
  },
  {
   "cell_type": "code",
   "execution_count": 7,
   "metadata": {},
   "outputs": [
    {
     "data": {
      "text/html": [
       "<span class=\"tex2jax_ignore\"><div class=\"entities\" style=\"line-height: 2.5; direction: ltr\">I went to \n",
       "<mark class=\"entity\" style=\"background: #feca74; padding: 0.45em 0.6em; margin: 0 0.25em; line-height: 1; border-radius: 0.35em;\">\n",
       "    Paris\n",
       "    <span style=\"font-size: 0.8em; font-weight: bold; line-height: 1; border-radius: 0.35em; vertical-align: middle; margin-left: 0.5rem\">GPE</span>\n",
       "</mark>\n",
       " where I met my old friend \n",
       "<mark class=\"entity\" style=\"background: #aa9cfc; padding: 0.45em 0.6em; margin: 0 0.25em; line-height: 1; border-radius: 0.35em;\">\n",
       "    Jack\n",
       "    <span style=\"font-size: 0.8em; font-weight: bold; line-height: 1; border-radius: 0.35em; vertical-align: middle; margin-left: 0.5rem\">PERSON</span>\n",
       "</mark>\n",
       " from uni.</div></span>"
      ],
      "text/plain": [
       "<IPython.core.display.HTML object>"
      ]
     },
     "metadata": {},
     "output_type": "display_data"
    }
   ],
   "source": [
    "from spacy import displacy\n",
    " \n",
    "doc = nlp('I went to Paris where I met my old friend Jack from uni.')\n",
    "displacy.render(doc,style='ent',jupyter=True)"
   ]
  },
  {
   "cell_type": "markdown",
   "metadata": {},
   "source": [
    "### 找到书中所有人物名字"
   ]
  },
  {
   "cell_type": "code",
   "execution_count": 8,
   "metadata": {},
   "outputs": [],
   "source": [
    "def read_file(file_name):\n",
    "    with open(file_name, 'r') as file:\n",
    "        return file.read()"
   ]
  },
  {
   "cell_type": "code",
   "execution_count": 9,
   "metadata": {},
   "outputs": [],
   "source": [
    "# 加载文本数据\n",
    "text = read_file('./data/pride_and_prejudice.txt')\n",
    "processed_text = nlp(text)"
   ]
  },
  {
   "cell_type": "code",
   "execution_count": 10,
   "metadata": {},
   "outputs": [
    {
     "name": "stdout",
     "output_type": "stream",
     "text": [
      "6814\n"
     ]
    }
   ],
   "source": [
    "sentences = [s for s in processed_text.sents]\n",
    "print (len(sentences))"
   ]
  },
  {
   "cell_type": "code",
   "execution_count": 11,
   "metadata": {},
   "outputs": [
    {
     "data": {
      "text/plain": [
       "[The Project Gutenberg EBook of Pride and Prejudice, by Jane Austen\n",
       " ,\n",
       " This eBook is for the use of anyone anywhere at no cost and with\n",
       " almost no restrictions whatsoever.,\n",
       "  ,\n",
       " You may copy it, give it away or\n",
       " re-use it under the terms of the Project Gutenberg License included\n",
       " with this eBook or online at www.gutenberg.org,\n",
       " \n",
       " \n",
       " ]"
      ]
     },
     "execution_count": 11,
     "metadata": {},
     "output_type": "execute_result"
    }
   ],
   "source": [
    "sentences[:5]"
   ]
  },
  {
   "cell_type": "code",
   "execution_count": 12,
   "metadata": {},
   "outputs": [],
   "source": [
    "from collections import Counter,defaultdict"
   ]
  },
  {
   "cell_type": "code",
   "execution_count": 13,
   "metadata": {},
   "outputs": [
    {
     "data": {
      "text/plain": [
       "[('Elizabeth', 617),\n",
       " ('Darcy', 391),\n",
       " ('Jane', 267),\n",
       " ('Bennet', 229),\n",
       " ('Wickham', 176),\n",
       " ('Collins', 168),\n",
       " ('Bingley', 133),\n",
       " ('Lizzy', 94),\n",
       " ('Lady Catherine', 88),\n",
       " ('Gardiner', 87)]"
      ]
     },
     "execution_count": 13,
     "metadata": {},
     "output_type": "execute_result"
    }
   ],
   "source": [
    "def find_person(doc):\n",
    "    c = Counter()\n",
    "    for ent in doc.ents:\n",
    "        if ent.label_ == 'PERSON':\n",
    "            c[ent.lemma_]+=1\n",
    "    return c.most_common(10)\n",
    "\n",
    "find_person(processed_text)"
   ]
  },
  {
   "cell_type": "markdown",
   "metadata": {},
   "source": [
    "### 恐怖袭击分析"
   ]
  },
  {
   "cell_type": "code",
   "execution_count": 14,
   "metadata": {},
   "outputs": [],
   "source": [
    "def read_file_to_list(file_name):\n",
    "    with open(file_name, 'r') as file:\n",
    "        return file.readlines()"
   ]
  },
  {
   "cell_type": "code",
   "execution_count": 16,
   "metadata": {},
   "outputs": [],
   "source": [
    "terrorism_articles = read_file_to_list('data/rand-terrorism-dataset.txt')"
   ]
  },
  {
   "cell_type": "code",
   "execution_count": 17,
   "metadata": {},
   "outputs": [
    {
     "data": {
      "text/plain": [
       "['CHILE.  An explosion from a single stick of dynamite went off on the patio of the Santiago Binational Center, causing $21,000 in damages.\\n',\n",
       " 'ISRAEL.  Palestinian terrorists fired five mortar shells into the collective settlement at Masada, causing slight damage but no injuries.\\n',\n",
       " 'GUATEMALA.  A bomb was thrown over the wall surrounding the U.S. Marines guards house in Guatemala City, causing damage but no injuries.\\n',\n",
       " 'FRANCE.  Five French students bombed the Paris offices of   Chase Manhattan Bank before dawn.  Trans-World Airways and the Bank of America were also bombed.   They claimed to be protesting the U.S. involvement in the Vietnam war.\\n',\n",
       " 'UNITED STATES - Unidentified anti-Castro Cubans attempted to bomb the Miami branch of the Spanish National Tourist Office.\\n']"
      ]
     },
     "execution_count": 17,
     "metadata": {},
     "output_type": "execute_result"
    }
   ],
   "source": [
    "terrorism_articles[:5]"
   ]
  },
  {
   "cell_type": "code",
   "execution_count": 18,
   "metadata": {},
   "outputs": [],
   "source": [
    "terrorism_articles_nlp = [nlp(art) for art in terrorism_articles]"
   ]
  },
  {
   "cell_type": "code",
   "execution_count": 19,
   "metadata": {},
   "outputs": [],
   "source": [
    "common_terrorist_groups = [\n",
    "    'taliban', \n",
    "    'al - qaeda', \n",
    "    'hamas',  \n",
    "    'fatah', \n",
    "    'plo', \n",
    "    'bilad al - rafidayn'\n",
    "]\n",
    "\n",
    "common_locations = [\n",
    "    'iraq',\n",
    "    'baghdad', \n",
    "    'kirkuk', \n",
    "    'mosul', \n",
    "    'afghanistan', \n",
    "    'kabul',\n",
    "    'basra', \n",
    "    'palestine', \n",
    "    'gaza', \n",
    "    'israel', \n",
    "    'istanbul', \n",
    "    'beirut', \n",
    "    'pakistan'\n",
    "]"
   ]
  },
  {
   "cell_type": "code",
   "execution_count": 20,
   "metadata": {},
   "outputs": [],
   "source": [
    "location_entity_dict = defaultdict(Counter)\n",
    "\n",
    "for article in terrorism_articles_nlp:\n",
    "    \n",
    "    article_terrorist_groups = [ent.lemma_ for ent in article.ents if ent.label_=='PERSON' or ent.label_ =='ORG']#人或者组织\n",
    "    article_locations = [ent.lemma_ for ent in article.ents if ent.label_=='GPE']\n",
    "    terrorist_common = [ent for ent in article_terrorist_groups if ent.lower() in common_terrorist_groups]\n",
    "    locations_common = [ent for ent in article_locations if ent.lower() in common_locations]\n",
    "    \n",
    "    for found_entity in terrorist_common:\n",
    "        for found_location in locations_common:\n",
    "            location_entity_dict[found_entity][found_location] += 1\n",
    "            "
   ]
  },
  {
   "cell_type": "code",
   "execution_count": 21,
   "metadata": {},
   "outputs": [
    {
     "data": {
      "text/plain": [
       "defaultdict(collections.Counter,\n",
       "            {'PLO': Counter({'Beirut': 12,\n",
       "                      'ISRAEL': 17,\n",
       "                      'Israel': 21,\n",
       "                      'Iraq': 8,\n",
       "                      'Palestine': 1}),\n",
       "             'Fatah': Counter({'Israel': 16,\n",
       "                      'Beirut': 1,\n",
       "                      'Iraq': 1,\n",
       "                      'ISRAEL': 3,\n",
       "                      'Gaza': 11}),\n",
       "             'Hamas': Counter({'ISRAEL': 7,\n",
       "                      'Israel': 19,\n",
       "                      'Beirut': 1,\n",
       "                      'Gaza': 70}),\n",
       "             'Taliban': Counter({'AFGHANISTAN': 2,\n",
       "                      'Kabul': 39,\n",
       "                      'Pakistan': 14,\n",
       "                      'Afghanistan': 255}),\n",
       "             'HAMAS': Counter({'ISRAEL': 1}),\n",
       "             'Al - Qaeda': Counter({'Kabul': 1,\n",
       "                      'Iraq': 3,\n",
       "                      'Israel': 1,\n",
       "                      'Baghdad': 5,\n",
       "                      'Pakistan': 1,\n",
       "                      'Mosul': 16,\n",
       "                      'Kirkuk': 2}),\n",
       "             'al - Qaeda': Counter({'Iraq': 48,\n",
       "                      'Afghanistan': 6,\n",
       "                      'Kabul': 2,\n",
       "                      'Istanbul': 3,\n",
       "                      'Baghdad': 14,\n",
       "                      'Palestine': 3,\n",
       "                      'Mosul': 1,\n",
       "                      'Kirkuk': 3,\n",
       "                      'Pakistan': 5}),\n",
       "             'Bilad al - Rafidayn': Counter({'Iraq': 23,\n",
       "                      'Baghdad': 33,\n",
       "                      'Basra': 4,\n",
       "                      'Mosul': 4,\n",
       "                      'Palestine': 6}),\n",
       "             'taliban': Counter({'Afghanistan': 3})})"
      ]
     },
     "execution_count": 21,
     "metadata": {},
     "output_type": "execute_result"
    }
   ],
   "source": [
    "location_entity_dict"
   ]
  },
  {
   "cell_type": "code",
   "execution_count": 22,
   "metadata": {},
   "outputs": [
    {
     "data": {
      "text/html": [
       "<div>\n",
       "<style scoped>\n",
       "    .dataframe tbody tr th:only-of-type {\n",
       "        vertical-align: middle;\n",
       "    }\n",
       "\n",
       "    .dataframe tbody tr th {\n",
       "        vertical-align: top;\n",
       "    }\n",
       "\n",
       "    .dataframe thead th {\n",
       "        text-align: right;\n",
       "    }\n",
       "</style>\n",
       "<table border=\"1\" class=\"dataframe\">\n",
       "  <thead>\n",
       "    <tr style=\"text-align: right;\">\n",
       "      <th></th>\n",
       "      <th>PLO</th>\n",
       "      <th>Fatah</th>\n",
       "      <th>Hamas</th>\n",
       "      <th>Taliban</th>\n",
       "      <th>HAMAS</th>\n",
       "      <th>Al - Qaeda</th>\n",
       "      <th>al - Qaeda</th>\n",
       "      <th>Bilad al - Rafidayn</th>\n",
       "      <th>taliban</th>\n",
       "    </tr>\n",
       "  </thead>\n",
       "  <tbody>\n",
       "    <tr>\n",
       "      <th>Beirut</th>\n",
       "      <td>12</td>\n",
       "      <td>1</td>\n",
       "      <td>1</td>\n",
       "      <td>0</td>\n",
       "      <td>0</td>\n",
       "      <td>0</td>\n",
       "      <td>0</td>\n",
       "      <td>0</td>\n",
       "      <td>0</td>\n",
       "    </tr>\n",
       "    <tr>\n",
       "      <th>ISRAEL</th>\n",
       "      <td>17</td>\n",
       "      <td>3</td>\n",
       "      <td>7</td>\n",
       "      <td>0</td>\n",
       "      <td>1</td>\n",
       "      <td>0</td>\n",
       "      <td>0</td>\n",
       "      <td>0</td>\n",
       "      <td>0</td>\n",
       "    </tr>\n",
       "    <tr>\n",
       "      <th>Israel</th>\n",
       "      <td>21</td>\n",
       "      <td>16</td>\n",
       "      <td>19</td>\n",
       "      <td>0</td>\n",
       "      <td>0</td>\n",
       "      <td>1</td>\n",
       "      <td>0</td>\n",
       "      <td>0</td>\n",
       "      <td>0</td>\n",
       "    </tr>\n",
       "    <tr>\n",
       "      <th>Iraq</th>\n",
       "      <td>8</td>\n",
       "      <td>1</td>\n",
       "      <td>0</td>\n",
       "      <td>0</td>\n",
       "      <td>0</td>\n",
       "      <td>3</td>\n",
       "      <td>48</td>\n",
       "      <td>23</td>\n",
       "      <td>0</td>\n",
       "    </tr>\n",
       "    <tr>\n",
       "      <th>Palestine</th>\n",
       "      <td>1</td>\n",
       "      <td>0</td>\n",
       "      <td>0</td>\n",
       "      <td>0</td>\n",
       "      <td>0</td>\n",
       "      <td>0</td>\n",
       "      <td>3</td>\n",
       "      <td>6</td>\n",
       "      <td>0</td>\n",
       "    </tr>\n",
       "    <tr>\n",
       "      <th>Gaza</th>\n",
       "      <td>0</td>\n",
       "      <td>11</td>\n",
       "      <td>70</td>\n",
       "      <td>0</td>\n",
       "      <td>0</td>\n",
       "      <td>0</td>\n",
       "      <td>0</td>\n",
       "      <td>0</td>\n",
       "      <td>0</td>\n",
       "    </tr>\n",
       "    <tr>\n",
       "      <th>AFGHANISTAN</th>\n",
       "      <td>0</td>\n",
       "      <td>0</td>\n",
       "      <td>0</td>\n",
       "      <td>2</td>\n",
       "      <td>0</td>\n",
       "      <td>0</td>\n",
       "      <td>0</td>\n",
       "      <td>0</td>\n",
       "      <td>0</td>\n",
       "    </tr>\n",
       "    <tr>\n",
       "      <th>Kabul</th>\n",
       "      <td>0</td>\n",
       "      <td>0</td>\n",
       "      <td>0</td>\n",
       "      <td>39</td>\n",
       "      <td>0</td>\n",
       "      <td>1</td>\n",
       "      <td>2</td>\n",
       "      <td>0</td>\n",
       "      <td>0</td>\n",
       "    </tr>\n",
       "    <tr>\n",
       "      <th>Pakistan</th>\n",
       "      <td>0</td>\n",
       "      <td>0</td>\n",
       "      <td>0</td>\n",
       "      <td>14</td>\n",
       "      <td>0</td>\n",
       "      <td>1</td>\n",
       "      <td>5</td>\n",
       "      <td>0</td>\n",
       "      <td>0</td>\n",
       "    </tr>\n",
       "    <tr>\n",
       "      <th>Afghanistan</th>\n",
       "      <td>0</td>\n",
       "      <td>0</td>\n",
       "      <td>0</td>\n",
       "      <td>255</td>\n",
       "      <td>0</td>\n",
       "      <td>0</td>\n",
       "      <td>6</td>\n",
       "      <td>0</td>\n",
       "      <td>3</td>\n",
       "    </tr>\n",
       "    <tr>\n",
       "      <th>Baghdad</th>\n",
       "      <td>0</td>\n",
       "      <td>0</td>\n",
       "      <td>0</td>\n",
       "      <td>0</td>\n",
       "      <td>0</td>\n",
       "      <td>5</td>\n",
       "      <td>14</td>\n",
       "      <td>33</td>\n",
       "      <td>0</td>\n",
       "    </tr>\n",
       "    <tr>\n",
       "      <th>Mosul</th>\n",
       "      <td>0</td>\n",
       "      <td>0</td>\n",
       "      <td>0</td>\n",
       "      <td>0</td>\n",
       "      <td>0</td>\n",
       "      <td>16</td>\n",
       "      <td>1</td>\n",
       "      <td>4</td>\n",
       "      <td>0</td>\n",
       "    </tr>\n",
       "    <tr>\n",
       "      <th>Kirkuk</th>\n",
       "      <td>0</td>\n",
       "      <td>0</td>\n",
       "      <td>0</td>\n",
       "      <td>0</td>\n",
       "      <td>0</td>\n",
       "      <td>2</td>\n",
       "      <td>3</td>\n",
       "      <td>0</td>\n",
       "      <td>0</td>\n",
       "    </tr>\n",
       "    <tr>\n",
       "      <th>Istanbul</th>\n",
       "      <td>0</td>\n",
       "      <td>0</td>\n",
       "      <td>0</td>\n",
       "      <td>0</td>\n",
       "      <td>0</td>\n",
       "      <td>0</td>\n",
       "      <td>3</td>\n",
       "      <td>0</td>\n",
       "      <td>0</td>\n",
       "    </tr>\n",
       "    <tr>\n",
       "      <th>Basra</th>\n",
       "      <td>0</td>\n",
       "      <td>0</td>\n",
       "      <td>0</td>\n",
       "      <td>0</td>\n",
       "      <td>0</td>\n",
       "      <td>0</td>\n",
       "      <td>0</td>\n",
       "      <td>4</td>\n",
       "      <td>0</td>\n",
       "    </tr>\n",
       "  </tbody>\n",
       "</table>\n",
       "</div>"
      ],
      "text/plain": [
       "             PLO  Fatah  Hamas  Taliban  HAMAS  Al - Qaeda  al - Qaeda  \\\n",
       "Beirut        12      1      1        0      0           0           0   \n",
       "ISRAEL        17      3      7        0      1           0           0   \n",
       "Israel        21     16     19        0      0           1           0   \n",
       "Iraq           8      1      0        0      0           3          48   \n",
       "Palestine      1      0      0        0      0           0           3   \n",
       "Gaza           0     11     70        0      0           0           0   \n",
       "AFGHANISTAN    0      0      0        2      0           0           0   \n",
       "Kabul          0      0      0       39      0           1           2   \n",
       "Pakistan       0      0      0       14      0           1           5   \n",
       "Afghanistan    0      0      0      255      0           0           6   \n",
       "Baghdad        0      0      0        0      0           5          14   \n",
       "Mosul          0      0      0        0      0          16           1   \n",
       "Kirkuk         0      0      0        0      0           2           3   \n",
       "Istanbul       0      0      0        0      0           0           3   \n",
       "Basra          0      0      0        0      0           0           0   \n",
       "\n",
       "             Bilad al - Rafidayn  taliban  \n",
       "Beirut                         0        0  \n",
       "ISRAEL                         0        0  \n",
       "Israel                         0        0  \n",
       "Iraq                          23        0  \n",
       "Palestine                      6        0  \n",
       "Gaza                           0        0  \n",
       "AFGHANISTAN                    0        0  \n",
       "Kabul                          0        0  \n",
       "Pakistan                       0        0  \n",
       "Afghanistan                    0        3  \n",
       "Baghdad                       33        0  \n",
       "Mosul                          4        0  \n",
       "Kirkuk                         0        0  \n",
       "Istanbul                       0        0  \n",
       "Basra                          4        0  "
      ]
     },
     "execution_count": 22,
     "metadata": {},
     "output_type": "execute_result"
    }
   ],
   "source": [
    "import pandas as pd\n",
    "\n",
    "location_entity_df = pd.DataFrame.from_dict(dict(location_entity_dict),dtype=int)\n",
    "location_entity_df = location_entity_df.fillna(value = 0).astype(int)\n",
    "location_entity_df"
   ]
  },
  {
   "cell_type": "code",
   "execution_count": 26,
   "metadata": {},
   "outputs": [
    {
     "data": {
      "image/png": "[encoded data removed]",
      "text/plain": [
       "<Figure size 864x720 with 1 Axes>"
      ]
     },
     "metadata": {
      "needs_background": "light"
     },
     "output_type": "display_data"
    }
   ],
   "source": [
    "import matplotlib.pyplot as plt\n",
    "import seaborn as sns\n",
    "plt.figure(figsize=(12, 10))\n",
    "hmap = sns.heatmap(location_entity_df, annot=True, fmt='d', cmap='YlGnBu', cbar=False)\n",
    "\n",
    "# 添加信息\n",
    "plt.title('Global Incidents by Terrorist group')\n",
    "plt.xticks(rotation=30)\n",
    "plt.show()"
   ]
  },
  {
   "cell_type": "code",
   "execution_count": null,
   "metadata": {},
   "outputs": [],
   "source": []
  }
 ],
 "metadata": {
  "kernelspec": {
   "display_name": "Python 3",
   "language": "python",
   "name": "python3"
  },
  "language_info": {
   "codemirror_mode": {
    "name": "ipython",
    "version": 3
   },
   "file_extension": ".py",
   "mimetype": "text/x-python",
   "name": "python",
   "nbconvert_exporter": "python",
   "pygments_lexer": "ipython3",
   "version": "3.8.8"
  }
 },
 "nbformat": 4,
 "nbformat_minor": 4
}
