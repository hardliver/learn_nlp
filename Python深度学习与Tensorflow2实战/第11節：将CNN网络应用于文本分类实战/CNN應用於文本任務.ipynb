{
 "cells": [
  {
   "cell_type": "markdown",
   "id": "0f03df43-230a-439e-9afe-29bd71ca627b",
   "metadata": {},
   "source": [
    "# CNN文本分類實戰\n",
    "\n",
    "- 1. 文本數據預處理，必須都是相同長度，相同向量維度\n",
    "- 2. 構建卷積模型，注意卷積核大小的設計\n",
    "- 3. 將卷積後的特徵圖池化成一個特徵\n",
    "- 4. 將多種特徵拼接在一起，準備完成分類任務"
   ]
  },
  {
   "cell_type": "code",
   "execution_count": 1,
   "id": "487831b1-0ea2-4f70-a19c-8fe799ed28ce",
   "metadata": {},
   "outputs": [
    {
     "name": "stdout",
     "output_type": "stream",
     "text": [
      "(25000,)\n",
      "(25000,)\n",
      "(25000,)\n",
      "(25000,)\n"
     ]
    }
   ],
   "source": [
    "import warnings\n",
    "warnings.filterwarnings('ignore')\n",
    "import numpy as np\n",
    "import matplotlib.pyplot as plt\n",
    "from tensorflow import keras\n",
    "from tensorflow.keras import layers\n",
    "from tensorflow.keras.preprocessing.sequence import pad_sequences\n",
    "\n",
    "num_features = 3000\n",
    "sequence_length = 300\n",
    "embedding_dimension = 100\n",
    "(x_train, y_train), (x_test, y_test) = keras.datasets.imdb.load_data(num_words=num_features)\n",
    "print(x_train.shape)\n",
    "print(x_test.shape)\n",
    "print(y_train.shape)\n",
    "print(y_test.shape)"
   ]
  },
  {
   "cell_type": "code",
   "execution_count": 2,
   "id": "3bec6ac2-548e-4beb-84e6-9cdd663fbc4f",
   "metadata": {},
   "outputs": [
    {
     "name": "stdout",
     "output_type": "stream",
     "text": [
      "(25000, 300)\n",
      "(25000, 300)\n",
      "(25000,)\n",
      "(25000,)\n"
     ]
    }
   ],
   "source": [
    "x_train = pad_sequences(x_train, maxlen=sequence_length)\n",
    "x_test = pad_sequences(x_train, maxlen=sequence_length)\n",
    "print(x_train.shape)\n",
    "print(x_test.shape)\n",
    "print(y_train.shape)\n",
    "print(y_test.shape)"
   ]
  },
  {
   "cell_type": "code",
   "execution_count": 3,
   "id": "76cf9e6d-258d-42b9-bb95-5198cc92c376",
   "metadata": {},
   "outputs": [
    {
     "name": "stdout",
     "output_type": "stream",
     "text": [
      "Model: \"sequential\"\n",
      "_________________________________________________________________\n",
      "Layer (type)                 Output Shape              Param #   \n",
      "=================================================================\n",
      "embedding (Embedding)        (None, 300, 100)          300000    \n",
      "_________________________________________________________________\n",
      "reshape (Reshape)            (None, 300, 100, 1)       0         \n",
      "_________________________________________________________________\n",
      "model (Functional)           (None, 1, 1, 192)         76992     \n",
      "_________________________________________________________________\n",
      "flatten (Flatten)            (None, 192)               0         \n",
      "_________________________________________________________________\n",
      "dense (Dense)                (None, 10)                1930      \n",
      "_________________________________________________________________\n",
      "dropout (Dropout)            (None, 10)                0         \n",
      "_________________________________________________________________\n",
      "dense_1 (Dense)              (None, 1)                 11        \n",
      "=================================================================\n",
      "Total params: 378,933\n",
      "Trainable params: 378,933\n",
      "Non-trainable params: 0\n",
      "_________________________________________________________________\n"
     ]
    }
   ],
   "source": [
    "# 多種卷積核，相當於單詞數\n",
    "filter_size = [3,4,5]\n",
    "def convolution():\n",
    "    inn = layers.Input(shape=(sequence_length, embedding_dimension, 1)) #3維\n",
    "    cnns = []\n",
    "    for size in filter_size:\n",
    "        conv = layers.Conv2D(filters=64, kernel_size=(size, embedding_dimension),\n",
    "                            strides=1, padding='valid', activation='relu')(inn)\n",
    "        #需要將多種卷積後的特徵圖池化成一個特徵\n",
    "        pool = layers.MaxPool2D(pool_size=(sequence_length-size+1, 1), padding='valid')(conv)\n",
    "        cnns.append(pool)\n",
    "    # 將得到的特徵拼接在一起\n",
    "    outt = layers.concatenate(cnns)\n",
    "    \n",
    "    model = keras.Model(inputs=inn, outputs=outt)\n",
    "    return model\n",
    "\n",
    "def cnn_mulfilter():\n",
    "    model = keras.Sequential([\n",
    "        layers.Embedding(input_dim=num_features, output_dim=embedding_dimension,\n",
    "                        input_length=sequence_length),\n",
    "        layers.Reshape((sequence_length, embedding_dimension, 1)),\n",
    "        convolution(),\n",
    "        layers.Flatten(),\n",
    "        layers.Dense(10, activation='relu'),\n",
    "        layers.Dropout(0.2),\n",
    "        layers.Dense(1, activation='sigmoid')\n",
    "    ])\n",
    "    model.compile(optimizer=keras.optimizers.Adam(),\n",
    "                 loss=keras.losses.BinaryCrossentropy(),\n",
    "                 metrics=['accuracy'])\n",
    "    return model\n",
    "\n",
    "model = cnn_mulfilter()\n",
    "model.summary()"
   ]
  },
  {
   "cell_type": "code",
   "execution_count": 4,
   "id": "9327a76b-f9a3-49f9-a9e2-43326a5c0336",
   "metadata": {},
   "outputs": [
    {
     "name": "stdout",
     "output_type": "stream",
     "text": [
      "Epoch 1/5\n",
      "352/352 [==============================] - 75s 206ms/step - loss: 0.6077 - accuracy: 0.6302 - val_loss: 0.3371 - val_accuracy: 0.8620\n",
      "Epoch 2/5\n",
      "352/352 [==============================] - 66s 187ms/step - loss: 0.3335 - accuracy: 0.8651 - val_loss: 0.2913 - val_accuracy: 0.8748\n",
      "Epoch 3/5\n",
      "352/352 [==============================] - 66s 189ms/step - loss: 0.2672 - accuracy: 0.9025 - val_loss: 0.2829 - val_accuracy: 0.8864\n",
      "Epoch 4/5\n",
      "352/352 [==============================] - 71s 201ms/step - loss: 0.2131 - accuracy: 0.9288 - val_loss: 0.2819 - val_accuracy: 0.8852\n",
      "Epoch 5/5\n",
      "352/352 [==============================] - 69s 195ms/step - loss: 0.1712 - accuracy: 0.9433 - val_loss: 0.3053 - val_accuracy: 0.8908\n"
     ]
    }
   ],
   "source": [
    "history = model.fit(x_train, y_train, batch_size=64, epochs=5, validation_split=0.1)"
   ]
  },
  {
   "cell_type": "code",
   "execution_count": 5,
   "id": "a1266434-402c-4e45-8b9f-d2672041600e",
   "metadata": {},
   "outputs": [
    {
     "data": {
      "image/png": "[encoded data removed]",
      "text/plain": [
       "<Figure size 432x288 with 1 Axes>"
      ]
     },
     "metadata": {
      "needs_background": "light"
     },
     "output_type": "display_data"
    }
   ],
   "source": [
    "plt.plot(history.history['accuracy'])\n",
    "plt.plot(history.history['val_accuracy'])\n",
    "plt.legend(['training', 'validation'], loc='upper left')\n",
    "plt.show()"
   ]
  },
  {
   "cell_type": "code",
   "execution_count": null,
   "id": "4fcaa84a-b2ab-4a13-a282-885c5504aa38",
   "metadata": {},
   "outputs": [],
   "source": []
  }
 ],
 "metadata": {
  "kernelspec": {
   "display_name": "python38",
   "language": "python",
   "name": "python38"
  },
  "language_info": {
   "codemirror_mode": {
    "name": "ipython",
    "version": 3
   },
   "file_extension": ".py",
   "mimetype": "text/x-python",
   "name": "python",
   "nbconvert_exporter": "python",
   "pygments_lexer": "ipython3",
   "version": "3.8.8"
  }
 },
 "nbformat": 4,
 "nbformat_minor": 5
}
