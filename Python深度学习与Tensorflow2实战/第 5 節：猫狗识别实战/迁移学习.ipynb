{
 "cells": [
  {
   "cell_type": "markdown",
   "metadata": {
    "colab_type": "text",
    "id": "PVKTs6_LUizi"
   },
   "source": [
    "## 迁移学习\n",
    "- 用人家训练好模型的权重参数当做咱们的初始化\n",
    "- 一般全连接层需要自己训练，可以选择是否训练别人训练好的特征提取层"
   ]
  },
  {
   "cell_type": "code",
   "execution_count": 1,
   "metadata": {
    "colab": {},
    "colab_type": "code",
    "id": "r8VU6BS4Un97"
   },
   "outputs": [],
   "source": [
    "import os\n",
    "import warnings\n",
    "warnings.filterwarnings(\"ignore\")\n",
    "import matplotlib.pyplot as plt\n",
    "import tensorflow as tf\n",
    "from tensorflow.keras.optimizers import Adam\n",
    "from tensorflow.keras.preprocessing.image import ImageDataGenerator\n",
    "from tensorflow.keras import layers\n",
    "from tensorflow.keras import Model"
   ]
  },
  {
   "cell_type": "code",
   "execution_count": 2,
   "metadata": {
    "colab": {},
    "colab_type": "code",
    "id": "-LpXqsLrUrUU",
    "tags": []
   },
   "outputs": [],
   "source": [
    "base_dir = './data/cats_and_dogs'\n",
    "train_dir = os.path.join(base_dir, 'train')\n",
    "validation_dir = os.path.join(base_dir, 'validation')\n",
    "\n",
    "train_cats_dir = os.path.join(train_dir, 'cats')\n",
    "train_dogs_dir = os.path.join(train_dir, 'dogs')\n",
    "\n",
    "validation_cats_dir = os.path.join(validation_dir, 'cats')\n",
    "validation_dogs_dir = os.path.join(validation_dir, 'dogs')"
   ]
  },
  {
   "cell_type": "markdown",
   "metadata": {},
   "source": [
    "### tensorflow.keras.applications\n",
    "- 里面有很多现成训练好的模型可以直接利用"
   ]
  },
  {
   "cell_type": "code",
   "execution_count": 3,
   "metadata": {
    "colab": {},
    "colab_type": "code",
    "id": "Xym1QZAdVHJI"
   },
   "outputs": [],
   "source": [
    "### 导入模型\n",
    "from tensorflow.keras.applications.resnet import ResNet50\n",
    "from tensorflow.keras.applications.resnet import ResNet101\n",
    "from tensorflow.keras.applications.inception_v3 import InceptionV3"
   ]
  },
  {
   "cell_type": "code",
   "execution_count": 4,
   "metadata": {
    "colab": {
     "base_uri": "https://localhost:8080/",
     "height": 126
    },
    "colab_type": "code",
    "id": "SRw5V6ciWw6v",
    "outputId": "89de21ee-edaa-4d14-bdee-28411e4051a0"
   },
   "outputs": [
    {
     "name": "stdout",
     "output_type": "stream",
     "text": [
      "Downloading data from https://storage.googleapis.com/tensorflow/keras-applications/resnet/resnet101_weights_tf_dim_ordering_tf_kernels_notop.h5\n",
      "171450368/171446536 [==============================] - 21s 0us/step\n"
     ]
    }
   ],
   "source": [
    "pre_trained_model = ResNet101(input_shape = (75, 75, 3), # 输入大小\n",
    "                                include_top = False, # 不要最后的全连接层\n",
    "                                weights = 'imagenet')"
   ]
  },
  {
   "cell_type": "markdown",
   "metadata": {
    "colab_type": "text",
    "id": "LCIDjGoOYFy7"
   },
   "source": [
    "可以选择训练哪些层"
   ]
  },
  {
   "cell_type": "code",
   "execution_count": 5,
   "metadata": {
    "colab": {},
    "colab_type": "code",
    "id": "mi44X5E8XBxK",
    "tags": []
   },
   "outputs": [],
   "source": [
    "for layer in pre_trained_model.layers:\n",
    "    layer.trainable = False"
   ]
  },
  {
   "cell_type": "markdown",
   "metadata": {},
   "source": [
    "### callback的作用\n",
    "\n",
    "- 相当于一个监视器，在训练过程中可以设置一些自定义项，比如提前停止，改变学习率等\n",
    "\n",
    "callbacks = [\n",
    "\n",
    "  如果连续两个epoch还没降低就停止：\n",
    "  \n",
    "      tf.keras.callbacks.EarlyStopping(patience=2, monitor='val_loss'),\n",
    "  \n",
    "  可以动态改变学习率：\n",
    "  \n",
    "      tf.keras.callbacks.LearningRateScheduler\n",
    "      \n",
    "  保存模型：\n",
    "  \n",
    "      tf.keras.callbacks.ModelCheckpoint\n",
    "      \n",
    "  自定义方法：\n",
    "  \n",
    "      tf.keras.callbacks.Callback\n",
    "]"
   ]
  },
  {
   "cell_type": "code",
   "execution_count": 6,
   "metadata": {
    "colab": {},
    "colab_type": "code",
    "id": "evg3SqLIYZwA",
    "tags": []
   },
   "outputs": [],
   "source": [
    "class myCallback(tf.keras.callbacks.Callback):\n",
    "    def on_epoch_end(self, epoch, logs={}):\n",
    "        if(logs.get('acc')>0.95):\n",
    "            print(\"\\nReached 95% accuracy so cancelling training!\")\n",
    "            self.model.stop_training = True"
   ]
  },
  {
   "cell_type": "code",
   "execution_count": 7,
   "metadata": {
    "colab": {
     "base_uri": "https://localhost:8080/",
     "height": 90
    },
    "colab_type": "code",
    "id": "NcL9JswMYcrD",
    "outputId": "ce70442a-a7db-4e9f-a166-6dc3c9fdbddf"
   },
   "outputs": [],
   "source": [
    "from tensorflow.keras.optimizers import Adam\n",
    "\n",
    "# 为全连接层准备\n",
    "x = layers.Flatten()(pre_trained_model.output)\n",
    "# 加入全连接层，这个需要重头训练的\n",
    "x = layers.Dense(1024, activation='relu')(x)\n",
    "x = layers.Dropout(0.2)(x)                  \n",
    "# 输出层\n",
    "x = layers.Dense(1, activation='sigmoid')(x)           \n",
    "# 构建模型序列\n",
    "model = Model(pre_trained_model.input, x) \n",
    "\n",
    "model.compile(optimizer = Adam(lr=0.001), \n",
    "              loss = 'binary_crossentropy', \n",
    "              metrics = ['acc'])"
   ]
  },
  {
   "cell_type": "code",
   "execution_count": 8,
   "metadata": {
    "colab": {
     "base_uri": "https://localhost:8080/",
     "height": 52
    },
    "colab_type": "code",
    "id": "o3-sSPttZNMq",
    "outputId": "55b1da7d-180f-4f5c-ad48-cacfb195f3b8"
   },
   "outputs": [
    {
     "name": "stdout",
     "output_type": "stream",
     "text": [
      "Found 2001 images belonging to 2 classes.\n",
      "Found 1000 images belonging to 2 classes.\n"
     ]
    }
   ],
   "source": [
    "train_datagen = ImageDataGenerator(rescale = 1./255.,\n",
    "                                   rotation_range = 40,\n",
    "                                   width_shift_range = 0.2,\n",
    "                                   height_shift_range = 0.2,\n",
    "                                   shear_range = 0.2,\n",
    "                                   zoom_range = 0.2,\n",
    "                                   horizontal_flip = True)\n",
    "\n",
    "test_datagen = ImageDataGenerator( rescale = 1.0/255. )\n",
    "\n",
    "train_generator = train_datagen.flow_from_directory(train_dir,\n",
    "                                                    batch_size = 20,\n",
    "                                                    class_mode = 'binary', \n",
    "                                                    target_size = (75, 75))     \n",
    "\n",
    "validation_generator =  test_datagen.flow_from_directory( validation_dir,\n",
    "                                                          batch_size  = 20,\n",
    "                                                          class_mode  = 'binary', \n",
    "                                                          target_size = (75, 75))"
   ]
  },
  {
   "cell_type": "markdown",
   "metadata": {},
   "source": [
    "### 训练模型\n",
    "- 加入Callback()模块"
   ]
  },
  {
   "cell_type": "code",
   "execution_count": 9,
   "metadata": {
    "colab": {
     "base_uri": "https://localhost:8080/",
     "height": 1000
    },
    "colab_type": "code",
    "id": "0T_zGQmxa4j0",
    "outputId": "a12399a4-62d0-4033-c9c2-bca06a8ed325"
   },
   "outputs": [
    {
     "name": "stdout",
     "output_type": "stream",
     "text": [
      "Epoch 1/100\n",
      "100/100 - 135s - loss: 1.2519 - acc: 0.5255 - val_loss: 0.6941 - val_acc: 0.5660\n",
      "Epoch 2/100\n",
      "100/100 - 145s - loss: 0.7611 - acc: 0.5230 - val_loss: 0.6714 - val_acc: 0.6060\n",
      "Epoch 3/100\n",
      "100/100 - 104s - loss: 0.6899 - acc: 0.5422 - val_loss: 0.6692 - val_acc: 0.6020\n",
      "Epoch 4/100\n",
      "100/100 - 82s - loss: 0.6927 - acc: 0.5326 - val_loss: 0.6768 - val_acc: 0.5970\n",
      "Epoch 5/100\n",
      "100/100 - 111s - loss: 0.6893 - acc: 0.5452 - val_loss: 0.6749 - val_acc: 0.5770\n",
      "Epoch 6/100\n",
      "100/100 - 88s - loss: 0.6844 - acc: 0.5447 - val_loss: 0.6724 - val_acc: 0.6160\n",
      "Epoch 7/100\n",
      "100/100 - 90s - loss: 0.6831 - acc: 0.5634 - val_loss: 0.6694 - val_acc: 0.6250\n",
      "Epoch 8/100\n",
      "100/100 - 116s - loss: 0.6841 - acc: 0.5654 - val_loss: 0.6711 - val_acc: 0.6240\n",
      "Epoch 9/100\n",
      "100/100 - 127s - loss: 0.6823 - acc: 0.5699 - val_loss: 0.6695 - val_acc: 0.5980\n",
      "Epoch 10/100\n",
      "100/100 - 145s - loss: 0.6843 - acc: 0.5472 - val_loss: 0.6661 - val_acc: 0.6060\n",
      "Epoch 11/100\n",
      "100/100 - 119s - loss: 0.6768 - acc: 0.5815 - val_loss: 0.6659 - val_acc: 0.5910\n",
      "Epoch 12/100\n",
      "100/100 - 103s - loss: 0.6812 - acc: 0.5543 - val_loss: 0.6774 - val_acc: 0.6230\n",
      "Epoch 13/100\n",
      "100/100 - 112s - loss: 0.6790 - acc: 0.5613 - val_loss: 0.6732 - val_acc: 0.5740\n",
      "Epoch 14/100\n",
      "100/100 - 108s - loss: 0.6779 - acc: 0.5729 - val_loss: 0.6544 - val_acc: 0.6290\n",
      "Epoch 15/100\n",
      "100/100 - 115s - loss: 0.6759 - acc: 0.5694 - val_loss: 0.6481 - val_acc: 0.6290\n",
      "Epoch 16/100\n",
      "100/100 - 121s - loss: 0.6815 - acc: 0.5639 - val_loss: 0.6623 - val_acc: 0.6060\n",
      "Epoch 17/100\n",
      "100/100 - 119s - loss: 0.6847 - acc: 0.5497 - val_loss: 0.6769 - val_acc: 0.5540\n",
      "Epoch 18/100\n",
      "100/100 - 129s - loss: 0.6861 - acc: 0.5507 - val_loss: 0.6653 - val_acc: 0.6240\n",
      "Epoch 19/100\n",
      "100/100 - 135s - loss: 0.6791 - acc: 0.5689 - val_loss: 0.6702 - val_acc: 0.5940\n",
      "Epoch 20/100\n",
      "100/100 - 126s - loss: 0.6754 - acc: 0.5639 - val_loss: 0.6510 - val_acc: 0.6400\n",
      "Epoch 21/100\n",
      "100/100 - 152s - loss: 0.6772 - acc: 0.5679 - val_loss: 0.6755 - val_acc: 0.6270\n",
      "Epoch 22/100\n",
      "100/100 - 142s - loss: 0.6800 - acc: 0.5805 - val_loss: 0.6725 - val_acc: 0.5700\n",
      "Epoch 23/100\n",
      "100/100 - 129s - loss: 0.6883 - acc: 0.5331 - val_loss: 0.6930 - val_acc: 0.5010\n",
      "Epoch 24/100\n",
      "100/100 - 131s - loss: 0.6930 - acc: 0.5078 - val_loss: 0.6912 - val_acc: 0.5060\n",
      "Epoch 25/100\n",
      "100/100 - 126s - loss: 0.6864 - acc: 0.5381 - val_loss: 0.6715 - val_acc: 0.5960\n",
      "Epoch 26/100\n",
      "100/100 - 113s - loss: 0.6927 - acc: 0.5391 - val_loss: 0.6898 - val_acc: 0.5010\n",
      "Epoch 27/100\n",
      "100/100 - 115s - loss: 0.6895 - acc: 0.5134 - val_loss: 0.6739 - val_acc: 0.6150\n",
      "Epoch 28/100\n",
      "100/100 - 110s - loss: 0.6823 - acc: 0.5492 - val_loss: 0.6748 - val_acc: 0.5850\n",
      "Epoch 29/100\n",
      "100/100 - 109s - loss: 0.6900 - acc: 0.5119 - val_loss: 0.6922 - val_acc: 0.5180\n",
      "Epoch 30/100\n",
      "100/100 - 110s - loss: 0.6931 - acc: 0.4947 - val_loss: 0.6948 - val_acc: 0.5060\n",
      "Epoch 31/100\n",
      "100/100 - 107s - loss: 0.6927 - acc: 0.5023 - val_loss: 0.6865 - val_acc: 0.5780\n",
      "Epoch 32/100\n",
      "100/100 - 109s - loss: 0.6895 - acc: 0.5507 - val_loss: 0.6850 - val_acc: 0.5810\n",
      "Epoch 33/100\n",
      "100/100 - 119s - loss: 0.6869 - acc: 0.5563 - val_loss: 0.6966 - val_acc: 0.5070\n",
      "Epoch 34/100\n",
      "100/100 - 110s - loss: 0.6932 - acc: 0.5124 - val_loss: 0.6931 - val_acc: 0.5020\n",
      "Epoch 35/100\n",
      "100/100 - 106s - loss: 0.6955 - acc: 0.5013 - val_loss: 0.6925 - val_acc: 0.5060\n",
      "Epoch 36/100\n",
      "100/100 - 108s - loss: 0.6918 - acc: 0.5371 - val_loss: 0.6896 - val_acc: 0.5420\n",
      "Epoch 37/100\n",
      "100/100 - 125s - loss: 0.6892 - acc: 0.5517 - val_loss: 0.6834 - val_acc: 0.5700\n",
      "Epoch 38/100\n",
      "100/100 - 185s - loss: 0.6878 - acc: 0.5406 - val_loss: 0.6787 - val_acc: 0.5630\n",
      "Epoch 39/100\n",
      "100/100 - 177s - loss: 0.6856 - acc: 0.5470 - val_loss: 0.6800 - val_acc: 0.5750\n",
      "Epoch 40/100\n",
      "100/100 - 107s - loss: 0.6883 - acc: 0.5452 - val_loss: 0.6741 - val_acc: 0.6110\n",
      "Epoch 41/100\n",
      "100/100 - 107s - loss: 0.6858 - acc: 0.5487 - val_loss: 0.6721 - val_acc: 0.6040\n",
      "Epoch 42/100\n",
      "100/100 - 105s - loss: 0.6800 - acc: 0.5755 - val_loss: 0.6736 - val_acc: 0.6150\n",
      "Epoch 43/100\n",
      "100/100 - 104s - loss: 0.6848 - acc: 0.5639 - val_loss: 0.6720 - val_acc: 0.6210\n",
      "Epoch 44/100\n",
      "100/100 - 107s - loss: 0.6793 - acc: 0.5760 - val_loss: 0.6649 - val_acc: 0.6390\n",
      "Epoch 45/100\n",
      "100/100 - 104s - loss: 0.6779 - acc: 0.5704 - val_loss: 0.6919 - val_acc: 0.5120\n",
      "Epoch 46/100\n",
      "100/100 - 104s - loss: 0.6942 - acc: 0.5023 - val_loss: 0.6919 - val_acc: 0.5100\n",
      "Epoch 47/100\n",
      "100/100 - 111s - loss: 0.6917 - acc: 0.5245 - val_loss: 0.6642 - val_acc: 0.6280\n",
      "Epoch 48/100\n",
      "100/100 - 103s - loss: 0.6782 - acc: 0.5623 - val_loss: 0.6667 - val_acc: 0.6080\n",
      "Epoch 49/100\n",
      "100/100 - 104s - loss: 0.6765 - acc: 0.5835 - val_loss: 0.6607 - val_acc: 0.6300\n",
      "Epoch 50/100\n",
      "100/100 - 106s - loss: 0.6750 - acc: 0.5724 - val_loss: 0.6640 - val_acc: 0.6150\n",
      "Epoch 51/100\n",
      "100/100 - 111s - loss: 0.6814 - acc: 0.5724 - val_loss: 0.6676 - val_acc: 0.6120\n",
      "Epoch 52/100\n",
      "100/100 - 105s - loss: 0.6731 - acc: 0.5810 - val_loss: 0.6553 - val_acc: 0.6350\n",
      "Epoch 53/100\n",
      "100/100 - 112s - loss: 0.6862 - acc: 0.5396 - val_loss: 0.6693 - val_acc: 0.6060\n",
      "Epoch 54/100\n",
      "100/100 - 103s - loss: 0.6786 - acc: 0.5528 - val_loss: 0.6575 - val_acc: 0.6440\n",
      "Epoch 55/100\n",
      "100/100 - 104s - loss: 0.6855 - acc: 0.5623 - val_loss: 0.6651 - val_acc: 0.6230\n",
      "Epoch 56/100\n",
      "100/100 - 107s - loss: 0.6789 - acc: 0.5740 - val_loss: 0.6633 - val_acc: 0.6290\n",
      "Epoch 57/100\n",
      "100/100 - 104s - loss: 0.6790 - acc: 0.5664 - val_loss: 0.6537 - val_acc: 0.6490\n",
      "Epoch 58/100\n",
      "100/100 - 105s - loss: 0.6725 - acc: 0.5820 - val_loss: 0.6504 - val_acc: 0.6410\n",
      "Epoch 59/100\n",
      "100/100 - 102s - loss: 0.6762 - acc: 0.5654 - val_loss: 0.6549 - val_acc: 0.6470\n",
      "Epoch 60/100\n",
      "100/100 - 103s - loss: 0.6832 - acc: 0.5669 - val_loss: 0.6515 - val_acc: 0.6270\n",
      "Epoch 61/100\n",
      "100/100 - 104s - loss: 0.6711 - acc: 0.5931 - val_loss: 0.6498 - val_acc: 0.6300\n",
      "Epoch 62/100\n",
      "100/100 - 103s - loss: 0.6687 - acc: 0.5921 - val_loss: 0.6461 - val_acc: 0.6320\n",
      "Epoch 63/100\n",
      "100/100 - 103s - loss: 0.6747 - acc: 0.5815 - val_loss: 0.6470 - val_acc: 0.6390\n",
      "Epoch 64/100\n",
      "100/100 - 104s - loss: 0.6648 - acc: 0.5982 - val_loss: 0.6473 - val_acc: 0.6500\n",
      "Epoch 65/100\n",
      "100/100 - 105s - loss: 0.6675 - acc: 0.5992 - val_loss: 0.6387 - val_acc: 0.6540\n",
      "Epoch 66/100\n",
      "100/100 - 103s - loss: 0.6723 - acc: 0.5790 - val_loss: 0.6441 - val_acc: 0.6380\n",
      "Epoch 67/100\n",
      "100/100 - 103s - loss: 0.6681 - acc: 0.5952 - val_loss: 0.6435 - val_acc: 0.6380\n",
      "Epoch 68/100\n",
      "100/100 - 103s - loss: 0.6680 - acc: 0.5936 - val_loss: 0.6617 - val_acc: 0.5970\n",
      "Epoch 69/100\n",
      "100/100 - 105s - loss: 0.6773 - acc: 0.5830 - val_loss: 0.6466 - val_acc: 0.6560\n",
      "Epoch 70/100\n",
      "100/100 - 103s - loss: 0.6728 - acc: 0.5810 - val_loss: 0.6518 - val_acc: 0.6470\n",
      "Epoch 71/100\n",
      "100/100 - 102s - loss: 0.6720 - acc: 0.5851 - val_loss: 0.6406 - val_acc: 0.6380\n",
      "Epoch 72/100\n",
      "100/100 - 103s - loss: 0.6730 - acc: 0.5795 - val_loss: 0.6619 - val_acc: 0.6060\n",
      "Epoch 73/100\n",
      "100/100 - 103s - loss: 0.6713 - acc: 0.5820 - val_loss: 0.6389 - val_acc: 0.6360\n",
      "Epoch 74/100\n",
      "100/100 - 103s - loss: 0.6680 - acc: 0.5866 - val_loss: 0.6479 - val_acc: 0.6190\n",
      "Epoch 75/100\n",
      "100/100 - 103s - loss: 0.6677 - acc: 0.5871 - val_loss: 0.6367 - val_acc: 0.6630\n",
      "Epoch 76/100\n",
      "100/100 - 104s - loss: 0.6686 - acc: 0.5830 - val_loss: 0.6389 - val_acc: 0.6620\n",
      "Epoch 77/100\n",
      "100/100 - 103s - loss: 0.6660 - acc: 0.6042 - val_loss: 0.6325 - val_acc: 0.6510\n",
      "Epoch 78/100\n",
      "100/100 - 103s - loss: 0.6692 - acc: 0.5830 - val_loss: 0.6329 - val_acc: 0.6580\n",
      "Epoch 79/100\n",
      "100/100 - 103s - loss: 0.6647 - acc: 0.6007 - val_loss: 0.6399 - val_acc: 0.6610\n",
      "Epoch 80/100\n",
      "100/100 - 102s - loss: 0.6699 - acc: 0.5830 - val_loss: 0.6381 - val_acc: 0.6390\n",
      "Epoch 81/100\n",
      "100/100 - 104s - loss: 0.6675 - acc: 0.5941 - val_loss: 0.6252 - val_acc: 0.6590\n",
      "Epoch 82/100\n",
      "100/100 - 103s - loss: 0.6632 - acc: 0.6083 - val_loss: 0.6312 - val_acc: 0.6530\n",
      "Epoch 83/100\n",
      "100/100 - 103s - loss: 0.6647 - acc: 0.5891 - val_loss: 0.6292 - val_acc: 0.6610\n",
      "Epoch 84/100\n",
      "100/100 - 104s - loss: 0.6732 - acc: 0.5901 - val_loss: 0.6400 - val_acc: 0.6390\n",
      "Epoch 85/100\n",
      "100/100 - 103s - loss: 0.6611 - acc: 0.6022 - val_loss: 0.6349 - val_acc: 0.6430\n",
      "Epoch 86/100\n",
      "100/100 - 107s - loss: 0.6626 - acc: 0.6037 - val_loss: 0.6303 - val_acc: 0.6540\n",
      "Epoch 87/100\n",
      "100/100 - 104s - loss: 0.6704 - acc: 0.5921 - val_loss: 0.6293 - val_acc: 0.6690\n",
      "Epoch 88/100\n",
      "100/100 - 102s - loss: 0.6606 - acc: 0.6103 - val_loss: 0.6318 - val_acc: 0.6470\n",
      "Epoch 89/100\n",
      "100/100 - 103s - loss: 0.6545 - acc: 0.6204 - val_loss: 0.6282 - val_acc: 0.6650\n",
      "Epoch 90/100\n",
      "100/100 - 104s - loss: 0.6708 - acc: 0.5896 - val_loss: 0.6317 - val_acc: 0.6440\n",
      "Epoch 91/100\n",
      "100/100 - 106s - loss: 0.6562 - acc: 0.6063 - val_loss: 0.6270 - val_acc: 0.6590\n",
      "Epoch 92/100\n",
      "100/100 - 103s - loss: 0.6676 - acc: 0.6022 - val_loss: 0.6273 - val_acc: 0.6760\n",
      "Epoch 93/100\n",
      "100/100 - 109s - loss: 0.6659 - acc: 0.5977 - val_loss: 0.6271 - val_acc: 0.6660\n",
      "Epoch 94/100\n",
      "100/100 - 103s - loss: 0.6751 - acc: 0.5719 - val_loss: 0.6938 - val_acc: 0.5340\n",
      "Epoch 95/100\n",
      "100/100 - 102s - loss: 0.6749 - acc: 0.5790 - val_loss: 0.6342 - val_acc: 0.6430\n",
      "Epoch 96/100\n",
      "100/100 - 106s - loss: 0.6572 - acc: 0.6103 - val_loss: 0.6270 - val_acc: 0.6630\n",
      "Epoch 97/100\n",
      "100/100 - 103s - loss: 0.6645 - acc: 0.5997 - val_loss: 0.6326 - val_acc: 0.6750\n",
      "Epoch 98/100\n",
      "100/100 - 103s - loss: 0.6589 - acc: 0.6138 - val_loss: 0.6249 - val_acc: 0.6750\n",
      "Epoch 99/100\n",
      "100/100 - 103s - loss: 0.6637 - acc: 0.6017 - val_loss: 0.6247 - val_acc: 0.6770\n",
      "Epoch 100/100\n",
      "100/100 - 105s - loss: 0.6747 - acc: 0.5820 - val_loss: 0.6306 - val_acc: 0.6480\n"
     ]
    }
   ],
   "source": [
    "callbacks = myCallback()\n",
    "history = model.fit_generator(\n",
    "            train_generator,\n",
    "            validation_data = validation_generator,\n",
    "            steps_per_epoch = 100,\n",
    "            epochs = 100,\n",
    "            validation_steps = 50,\n",
    "            verbose = 2,\n",
    "            callbacks=[callbacks])"
   ]
  },
  {
   "cell_type": "markdown",
   "metadata": {
    "colab_type": "text",
    "id": "yHcu9_-5kTd0"
   },
   "source": [
    "绘图展示"
   ]
  },
  {
   "cell_type": "code",
   "execution_count": 10,
   "metadata": {
    "colab": {
     "base_uri": "https://localhost:8080/",
     "height": 545
    },
    "colab_type": "code",
    "id": "svffv8FfbBBF",
    "outputId": "738342f2-2a3e-47f3-ca5d-ffb566318386"
   },
   "outputs": [
    {
     "data": {
      "image/png": "[encoded data removed]",
      "text/plain": [
       "<Figure size 432x288 with 1 Axes>"
      ]
     },
     "metadata": {
      "needs_background": "light"
     },
     "output_type": "display_data"
    },
    {
     "data": {
      "image/png": "[encoded data removed]",
      "text/plain": [
       "<Figure size 432x288 with 1 Axes>"
      ]
     },
     "metadata": {
      "needs_background": "light"
     },
     "output_type": "display_data"
    }
   ],
   "source": [
    "import matplotlib.pyplot as plt\n",
    "acc = history.history['acc']\n",
    "val_acc = history.history['val_acc']\n",
    "loss = history.history['loss']\n",
    "val_loss = history.history['val_loss']\n",
    "\n",
    "epochs = range(len(acc))\n",
    "\n",
    "plt.plot(epochs, acc, 'b', label='Training accuracy')\n",
    "plt.plot(epochs, val_acc, 'r', label='Validation accuracy')\n",
    "plt.title('Training and validation accuracy')\n",
    "plt.legend()\n",
    "\n",
    "plt.figure()\n",
    "\n",
    "plt.plot(epochs, loss, 'b', label='Training Loss')\n",
    "plt.plot(epochs, val_loss, 'r', label='Validation Loss')\n",
    "plt.title('Training and validation loss')\n",
    "plt.legend()\n",
    "\n",
    "plt.show()"
   ]
  },
  {
   "cell_type": "markdown",
   "metadata": {
    "colab_type": "text",
    "id": "MAiYkPWRlTh3"
   },
   "source": [
    "### 也可以自己选择需要的层，也就是取到哪一层\n",
    "\n",
    "- last_layer = pre_trained_model.get_layer('层的名字') "
   ]
  }
 ],
 "metadata": {
  "accelerator": "GPU",
  "colab": {
   "collapsed_sections": [],
   "name": "transfer_learning_v2",
   "provenance": []
  },
  "kernelspec": {
   "display_name": "python38",
   "language": "python",
   "name": "python38"
  },
  "language_info": {
   "codemirror_mode": {
    "name": "ipython",
    "version": 3
   },
   "file_extension": ".py",
   "mimetype": "text/x-python",
   "name": "python",
   "nbconvert_exporter": "python",
   "pygments_lexer": "ipython3",
   "version": "3.8.8"
  }
 },
 "nbformat": 4,
 "nbformat_minor": 4
}
