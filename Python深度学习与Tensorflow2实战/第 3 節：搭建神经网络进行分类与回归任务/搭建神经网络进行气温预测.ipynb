{
 "cells": [
  {
   "cell_type": "markdown",
   "metadata": {},
   "source": [
    "### 回归问题预测\n",
    "- Tensorflow2版本中将大量使用keras的简介建模方法\n"
   ]
  },
  {
   "cell_type": "code",
   "execution_count": 1,
   "metadata": {},
   "outputs": [],
   "source": [
    "import numpy as np\n",
    "import pandas as pd \n",
    "import matplotlib.pyplot as plt\n",
    "import tensorflow as tf\n",
    "from tensorflow.keras import layers\n",
    "import tensorflow.keras\n",
    "import warnings\n",
    "warnings.filterwarnings(\"ignore\")\n",
    "%matplotlib inline"
   ]
  },
  {
   "cell_type": "code",
   "execution_count": 2,
   "metadata": {},
   "outputs": [
    {
     "data": {
      "text/html": [
       "<div>\n",
       "<style scoped>\n",
       "    .dataframe tbody tr th:only-of-type {\n",
       "        vertical-align: middle;\n",
       "    }\n",
       "\n",
       "    .dataframe tbody tr th {\n",
       "        vertical-align: top;\n",
       "    }\n",
       "\n",
       "    .dataframe thead th {\n",
       "        text-align: right;\n",
       "    }\n",
       "</style>\n",
       "<table border=\"1\" class=\"dataframe\">\n",
       "  <thead>\n",
       "    <tr style=\"text-align: right;\">\n",
       "      <th></th>\n",
       "      <th>year</th>\n",
       "      <th>month</th>\n",
       "      <th>day</th>\n",
       "      <th>week</th>\n",
       "      <th>temp_2</th>\n",
       "      <th>temp_1</th>\n",
       "      <th>average</th>\n",
       "      <th>actual</th>\n",
       "      <th>friend</th>\n",
       "    </tr>\n",
       "  </thead>\n",
       "  <tbody>\n",
       "    <tr>\n",
       "      <th>0</th>\n",
       "      <td>2016</td>\n",
       "      <td>1</td>\n",
       "      <td>1</td>\n",
       "      <td>Fri</td>\n",
       "      <td>45</td>\n",
       "      <td>45</td>\n",
       "      <td>45.6</td>\n",
       "      <td>45</td>\n",
       "      <td>29</td>\n",
       "    </tr>\n",
       "    <tr>\n",
       "      <th>1</th>\n",
       "      <td>2016</td>\n",
       "      <td>1</td>\n",
       "      <td>2</td>\n",
       "      <td>Sat</td>\n",
       "      <td>44</td>\n",
       "      <td>45</td>\n",
       "      <td>45.7</td>\n",
       "      <td>44</td>\n",
       "      <td>61</td>\n",
       "    </tr>\n",
       "    <tr>\n",
       "      <th>2</th>\n",
       "      <td>2016</td>\n",
       "      <td>1</td>\n",
       "      <td>3</td>\n",
       "      <td>Sun</td>\n",
       "      <td>45</td>\n",
       "      <td>44</td>\n",
       "      <td>45.8</td>\n",
       "      <td>41</td>\n",
       "      <td>56</td>\n",
       "    </tr>\n",
       "    <tr>\n",
       "      <th>3</th>\n",
       "      <td>2016</td>\n",
       "      <td>1</td>\n",
       "      <td>4</td>\n",
       "      <td>Mon</td>\n",
       "      <td>44</td>\n",
       "      <td>41</td>\n",
       "      <td>45.9</td>\n",
       "      <td>40</td>\n",
       "      <td>53</td>\n",
       "    </tr>\n",
       "    <tr>\n",
       "      <th>4</th>\n",
       "      <td>2016</td>\n",
       "      <td>1</td>\n",
       "      <td>5</td>\n",
       "      <td>Tues</td>\n",
       "      <td>41</td>\n",
       "      <td>40</td>\n",
       "      <td>46.0</td>\n",
       "      <td>44</td>\n",
       "      <td>41</td>\n",
       "    </tr>\n",
       "  </tbody>\n",
       "</table>\n",
       "</div>"
      ],
      "text/plain": [
       "   year  month  day  week  temp_2  temp_1  average  actual  friend\n",
       "0  2016      1    1   Fri      45      45     45.6      45      29\n",
       "1  2016      1    2   Sat      44      45     45.7      44      61\n",
       "2  2016      1    3   Sun      45      44     45.8      41      56\n",
       "3  2016      1    4   Mon      44      41     45.9      40      53\n",
       "4  2016      1    5  Tues      41      40     46.0      44      41"
      ]
     },
     "execution_count": 2,
     "metadata": {},
     "output_type": "execute_result"
    }
   ],
   "source": [
    "features = pd.read_csv('temps.csv')\n",
    "\n",
    "#看看数据长什么样子\n",
    "features.head()"
   ]
  },
  {
   "cell_type": "markdown",
   "metadata": {},
   "source": [
    "数据表中\n",
    "* year,moth,day,week分别表示的具体的时间\n",
    "* temp_2：前天的最高温度值\n",
    "* temp_1：昨天的最高温度值\n",
    "* average：在历史中，每年这一天的平均最高温度值\n",
    "* actual：这就是我们的标签值了，当天的真实最高温度\n",
    "* friend：这一列可能是凑热闹的，你的朋友猜测的可能值，咱们不管它就好了"
   ]
  },
  {
   "cell_type": "code",
   "execution_count": 3,
   "metadata": {},
   "outputs": [
    {
     "name": "stdout",
     "output_type": "stream",
     "text": [
      "数据维度: (348, 9)\n"
     ]
    }
   ],
   "source": [
    "print('数据维度:', features.shape)"
   ]
  },
  {
   "cell_type": "code",
   "execution_count": 4,
   "metadata": {
    "tags": []
   },
   "outputs": [],
   "source": [
    "# 处理时间数据\n",
    "import datetime\n",
    "\n",
    "# 分别得到年，月，日\n",
    "years  = features['year']\n",
    "months = features['month']\n",
    "days   = features['day']\n",
    "\n",
    "# datetime格式\n",
    "dates = [str(int(year)) + '-' + str(int(month)) + '-' + str(int(day)) for year, month, day in zip(years, months, days)]\n",
    "dates = [datetime.datetime.strptime(date, '%Y-%m-%d') for date in dates]"
   ]
  },
  {
   "cell_type": "code",
   "execution_count": 5,
   "metadata": {},
   "outputs": [
    {
     "data": {
      "text/plain": [
       "[datetime.datetime(2016, 1, 1, 0, 0),\n",
       " datetime.datetime(2016, 1, 2, 0, 0),\n",
       " datetime.datetime(2016, 1, 3, 0, 0),\n",
       " datetime.datetime(2016, 1, 4, 0, 0),\n",
       " datetime.datetime(2016, 1, 5, 0, 0)]"
      ]
     },
     "execution_count": 5,
     "metadata": {},
     "output_type": "execute_result"
    }
   ],
   "source": [
    "dates[:5]"
   ]
  },
  {
   "cell_type": "code",
   "execution_count": 6,
   "metadata": {},
   "outputs": [
    {
     "data": {
      "image/png": "[encoded data removed]",
      "text/plain": [
       "<Figure size 720x720 with 4 Axes>"
      ]
     },
     "metadata": {},
     "output_type": "display_data"
    }
   ],
   "source": [
    "# 准备画图\n",
    "# 指定默认风格\n",
    "plt.style.use('fivethirtyeight')\n",
    "\n",
    "# 设置布局\n",
    "fig, ((ax1, ax2), (ax3, ax4)) = plt.subplots(nrows=2, ncols=2, figsize = (10,10))\n",
    "fig.autofmt_xdate(rotation = 45)\n",
    "\n",
    "# 标签值\n",
    "ax1.plot(dates, features['actual'])\n",
    "ax1.set_xlabel(''); ax1.set_ylabel('Temperature'); ax1.set_title('Max Temp')\n",
    "\n",
    "# 昨天\n",
    "ax2.plot(dates, features['temp_1'])\n",
    "ax2.set_xlabel(''); ax2.set_ylabel('Temperature'); ax2.set_title('Previous Max Temp')\n",
    "\n",
    "# 前天\n",
    "ax3.plot(dates, features['temp_2'])\n",
    "ax3.set_xlabel('Date'); ax3.set_ylabel('Temperature'); ax3.set_title('Two Days Prior Max Temp')\n",
    "\n",
    "# 我的逗逼朋友\n",
    "ax4.plot(dates, features['friend'])\n",
    "ax4.set_xlabel('Date'); ax4.set_ylabel('Temperature'); ax4.set_title('Friend Estimate')\n",
    "\n",
    "plt.tight_layout(pad=2)"
   ]
  },
  {
   "cell_type": "code",
   "execution_count": 7,
   "metadata": {},
   "outputs": [
    {
     "data": {
      "text/html": [
       "<div>\n",
       "<style scoped>\n",
       "    .dataframe tbody tr th:only-of-type {\n",
       "        vertical-align: middle;\n",
       "    }\n",
       "\n",
       "    .dataframe tbody tr th {\n",
       "        vertical-align: top;\n",
       "    }\n",
       "\n",
       "    .dataframe thead th {\n",
       "        text-align: right;\n",
       "    }\n",
       "</style>\n",
       "<table border=\"1\" class=\"dataframe\">\n",
       "  <thead>\n",
       "    <tr style=\"text-align: right;\">\n",
       "      <th></th>\n",
       "      <th>year</th>\n",
       "      <th>month</th>\n",
       "      <th>day</th>\n",
       "      <th>temp_2</th>\n",
       "      <th>temp_1</th>\n",
       "      <th>average</th>\n",
       "      <th>actual</th>\n",
       "      <th>friend</th>\n",
       "      <th>week_Fri</th>\n",
       "      <th>week_Mon</th>\n",
       "      <th>week_Sat</th>\n",
       "      <th>week_Sun</th>\n",
       "      <th>week_Thurs</th>\n",
       "      <th>week_Tues</th>\n",
       "      <th>week_Wed</th>\n",
       "    </tr>\n",
       "  </thead>\n",
       "  <tbody>\n",
       "    <tr>\n",
       "      <th>0</th>\n",
       "      <td>2016</td>\n",
       "      <td>1</td>\n",
       "      <td>1</td>\n",
       "      <td>45</td>\n",
       "      <td>45</td>\n",
       "      <td>45.6</td>\n",
       "      <td>45</td>\n",
       "      <td>29</td>\n",
       "      <td>1</td>\n",
       "      <td>0</td>\n",
       "      <td>0</td>\n",
       "      <td>0</td>\n",
       "      <td>0</td>\n",
       "      <td>0</td>\n",
       "      <td>0</td>\n",
       "    </tr>\n",
       "    <tr>\n",
       "      <th>1</th>\n",
       "      <td>2016</td>\n",
       "      <td>1</td>\n",
       "      <td>2</td>\n",
       "      <td>44</td>\n",
       "      <td>45</td>\n",
       "      <td>45.7</td>\n",
       "      <td>44</td>\n",
       "      <td>61</td>\n",
       "      <td>0</td>\n",
       "      <td>0</td>\n",
       "      <td>1</td>\n",
       "      <td>0</td>\n",
       "      <td>0</td>\n",
       "      <td>0</td>\n",
       "      <td>0</td>\n",
       "    </tr>\n",
       "    <tr>\n",
       "      <th>2</th>\n",
       "      <td>2016</td>\n",
       "      <td>1</td>\n",
       "      <td>3</td>\n",
       "      <td>45</td>\n",
       "      <td>44</td>\n",
       "      <td>45.8</td>\n",
       "      <td>41</td>\n",
       "      <td>56</td>\n",
       "      <td>0</td>\n",
       "      <td>0</td>\n",
       "      <td>0</td>\n",
       "      <td>1</td>\n",
       "      <td>0</td>\n",
       "      <td>0</td>\n",
       "      <td>0</td>\n",
       "    </tr>\n",
       "    <tr>\n",
       "      <th>3</th>\n",
       "      <td>2016</td>\n",
       "      <td>1</td>\n",
       "      <td>4</td>\n",
       "      <td>44</td>\n",
       "      <td>41</td>\n",
       "      <td>45.9</td>\n",
       "      <td>40</td>\n",
       "      <td>53</td>\n",
       "      <td>0</td>\n",
       "      <td>1</td>\n",
       "      <td>0</td>\n",
       "      <td>0</td>\n",
       "      <td>0</td>\n",
       "      <td>0</td>\n",
       "      <td>0</td>\n",
       "    </tr>\n",
       "    <tr>\n",
       "      <th>4</th>\n",
       "      <td>2016</td>\n",
       "      <td>1</td>\n",
       "      <td>5</td>\n",
       "      <td>41</td>\n",
       "      <td>40</td>\n",
       "      <td>46.0</td>\n",
       "      <td>44</td>\n",
       "      <td>41</td>\n",
       "      <td>0</td>\n",
       "      <td>0</td>\n",
       "      <td>0</td>\n",
       "      <td>0</td>\n",
       "      <td>0</td>\n",
       "      <td>1</td>\n",
       "      <td>0</td>\n",
       "    </tr>\n",
       "  </tbody>\n",
       "</table>\n",
       "</div>"
      ],
      "text/plain": [
       "   year  month  day  temp_2  temp_1  average  actual  friend  week_Fri  \\\n",
       "0  2016      1    1      45      45     45.6      45      29         1   \n",
       "1  2016      1    2      44      45     45.7      44      61         0   \n",
       "2  2016      1    3      45      44     45.8      41      56         0   \n",
       "3  2016      1    4      44      41     45.9      40      53         0   \n",
       "4  2016      1    5      41      40     46.0      44      41         0   \n",
       "\n",
       "   week_Mon  week_Sat  week_Sun  week_Thurs  week_Tues  week_Wed  \n",
       "0         0         0         0           0          0         0  \n",
       "1         0         1         0           0          0         0  \n",
       "2         0         0         1           0          0         0  \n",
       "3         1         0         0           0          0         0  \n",
       "4         0         0         0           0          1         0  "
      ]
     },
     "execution_count": 7,
     "metadata": {},
     "output_type": "execute_result"
    }
   ],
   "source": [
    "# 独热编码\n",
    "features = pd.get_dummies(features)\n",
    "features.head(5)"
   ]
  },
  {
   "cell_type": "code",
   "execution_count": 8,
   "metadata": {
    "tags": []
   },
   "outputs": [],
   "source": [
    "# 标签\n",
    "labels = np.array(features['actual'])\n",
    "\n",
    "# 在特征中去掉标签\n",
    "features= features.drop('actual', axis = 1)\n",
    "\n",
    "# 名字单独保存一下，以备后患\n",
    "feature_list = list(features.columns)\n",
    "\n",
    "# 转换成合适的格式\n",
    "features = np.array(features)"
   ]
  },
  {
   "cell_type": "code",
   "execution_count": 9,
   "metadata": {},
   "outputs": [
    {
     "data": {
      "text/plain": [
       "(348, 14)"
      ]
     },
     "execution_count": 9,
     "metadata": {},
     "output_type": "execute_result"
    }
   ],
   "source": [
    "features.shape"
   ]
  },
  {
   "cell_type": "code",
   "execution_count": 10,
   "metadata": {},
   "outputs": [],
   "source": [
    "from sklearn import preprocessing\n",
    "input_features = preprocessing.StandardScaler().fit_transform(features)"
   ]
  },
  {
   "cell_type": "code",
   "execution_count": 11,
   "metadata": {},
   "outputs": [
    {
     "data": {
      "text/plain": [
       "array([ 0.        , -1.5678393 , -1.65682171, -1.48452388, -1.49443549,\n",
       "       -1.3470703 , -1.98891668,  2.44131112, -0.40482045, -0.40961596,\n",
       "       -0.40482045, -0.40482045, -0.41913682, -0.40482045])"
      ]
     },
     "execution_count": 11,
     "metadata": {},
     "output_type": "execute_result"
    }
   ],
   "source": [
    "input_features[0]"
   ]
  },
  {
   "cell_type": "markdown",
   "metadata": {},
   "source": [
    "### 基于Keras构建网络模型\n",
    "一些常用参数已经列出，如下所示："
   ]
  },
  {
   "cell_type": "markdown",
   "metadata": {},
   "source": [
    "- activation：激活函数的选择，一般常用relu\n",
    "- kernel_initializer,bias_initializer：权重与偏置参数的初始化方法，有时候不收敛换种初始化就突然好使了。。。玄学\n",
    "- kernel_regularizer，bias_regularizer：要不要加入正则化，\n",
    "- inputs：输入，可以自己指定，也可以让网络自动选\n",
    "- units：神经元个数"
   ]
  },
  {
   "cell_type": "markdown",
   "metadata": {},
   "source": [
    "按顺序构造网络模型"
   ]
  },
  {
   "cell_type": "code",
   "execution_count": 12,
   "metadata": {},
   "outputs": [],
   "source": [
    "model = tf.keras.Sequential()\n",
    "model.add(layers.Dense(16))\n",
    "model.add(layers.Dense(32))\n",
    "model.add(layers.Dense(1))"
   ]
  },
  {
   "cell_type": "markdown",
   "metadata": {},
   "source": [
    "compile相当于对网络进行配置，指定好优化器和损失函数等"
   ]
  },
  {
   "cell_type": "code",
   "execution_count": 13,
   "metadata": {},
   "outputs": [],
   "source": [
    "model.compile(optimizer=tf.keras.optimizers.SGD(0.001),\n",
    "             loss='mean_squared_error')"
   ]
  },
  {
   "cell_type": "code",
   "execution_count": 14,
   "metadata": {},
   "outputs": [
    {
     "name": "stdout",
     "output_type": "stream",
     "text": [
      "Epoch 1/10\n",
      "5/5 [==============================] - 3s 405ms/step - loss: 4278.0719 - val_loss: 3547.5295\n",
      "Epoch 2/10\n",
      "5/5 [==============================] - 0s 24ms/step - loss: 2083.2126 - val_loss: 5484.0664\n",
      "Epoch 3/10\n",
      "5/5 [==============================] - 0s 18ms/step - loss: 148.0028 - val_loss: 3433.3040\n",
      "Epoch 4/10\n",
      "5/5 [==============================] - 0s 22ms/step - loss: 144.0062 - val_loss: 2639.9741\n",
      "Epoch 5/10\n",
      "5/5 [==============================] - 0s 17ms/step - loss: 101.2261 - val_loss: 2240.7629\n",
      "Epoch 6/10\n",
      "5/5 [==============================] - 0s 16ms/step - loss: 120.5763 - val_loss: 1371.3844\n",
      "Epoch 7/10\n",
      "5/5 [==============================] - 0s 27ms/step - loss: 243.5977 - val_loss: 1200.9189\n",
      "Epoch 8/10\n",
      "5/5 [==============================] - 0s 20ms/step - loss: 110.8272 - val_loss: 1104.2802\n",
      "Epoch 9/10\n",
      "5/5 [==============================] - 0s 19ms/step - loss: 108.3759 - val_loss: 1000.1851\n",
      "Epoch 10/10\n",
      "5/5 [==============================] - 0s 24ms/step - loss: 44.5939 - val_loss: 893.8572\n"
     ]
    },
    {
     "data": {
      "text/plain": [
       "<tensorflow.python.keras.callbacks.History at 0x7fb0292d11c0>"
      ]
     },
     "execution_count": 14,
     "metadata": {},
     "output_type": "execute_result"
    }
   ],
   "source": [
    "model.fit(input_features, labels, validation_split=0.25, epochs=10, batch_size=64)"
   ]
  },
  {
   "cell_type": "code",
   "execution_count": 15,
   "metadata": {},
   "outputs": [
    {
     "data": {
      "text/plain": [
       "(348, 14)"
      ]
     },
     "execution_count": 15,
     "metadata": {},
     "output_type": "execute_result"
    }
   ],
   "source": [
    "input_features.shape"
   ]
  },
  {
   "cell_type": "markdown",
   "metadata": {},
   "source": [
    "似乎存在一些问题，模型还没有完全收敛，能不能调些参数呢"
   ]
  },
  {
   "cell_type": "code",
   "execution_count": 16,
   "metadata": {},
   "outputs": [
    {
     "name": "stdout",
     "output_type": "stream",
     "text": [
      "Model: \"sequential\"\n",
      "_________________________________________________________________\n",
      "Layer (type)                 Output Shape              Param #   \n",
      "=================================================================\n",
      "dense (Dense)                (None, 16)                240       \n",
      "_________________________________________________________________\n",
      "dense_1 (Dense)              (None, 32)                544       \n",
      "_________________________________________________________________\n",
      "dense_2 (Dense)              (None, 1)                 33        \n",
      "=================================================================\n",
      "Total params: 817\n",
      "Trainable params: 817\n",
      "Non-trainable params: 0\n",
      "_________________________________________________________________\n"
     ]
    }
   ],
   "source": [
    "model.summary()"
   ]
  },
  {
   "cell_type": "markdown",
   "metadata": {},
   "source": [
    "### 更改初始化方法后"
   ]
  },
  {
   "cell_type": "code",
   "execution_count": 17,
   "metadata": {},
   "outputs": [],
   "source": [
    "model = tf.keras.Sequential()\n",
    "model.add(layers.Dense(16,kernel_initializer='random_normal'))\n",
    "model.add(layers.Dense(32,kernel_initializer='random_normal'))\n",
    "model.add(layers.Dense(1,kernel_initializer='random_normal'))"
   ]
  },
  {
   "cell_type": "code",
   "execution_count": 18,
   "metadata": {},
   "outputs": [
    {
     "name": "stdout",
     "output_type": "stream",
     "text": [
      "Epoch 1/100\n",
      "5/5 [==============================] - 1s 102ms/step - loss: 4372.2078 - val_loss: 2866.7014\n",
      "Epoch 2/100\n",
      "5/5 [==============================] - 0s 21ms/step - loss: 4341.0126 - val_loss: 2774.2583\n",
      "Epoch 3/100\n",
      "5/5 [==============================] - 0s 16ms/step - loss: 4136.8449 - val_loss: 2630.9827\n",
      "Epoch 4/100\n",
      "5/5 [==============================] - 0s 37ms/step - loss: 3881.2495 - val_loss: 2495.7463\n",
      "Epoch 5/100\n",
      "5/5 [==============================] - 0s 23ms/step - loss: 1798.8766 - val_loss: 1915.8064\n",
      "Epoch 6/100\n",
      "5/5 [==============================] - 0s 21ms/step - loss: 88.0016 - val_loss: 1512.8838\n",
      "Epoch 7/100\n",
      "5/5 [==============================] - 0s 14ms/step - loss: 66.7116 - val_loss: 1073.3275\n",
      "Epoch 8/100\n",
      "5/5 [==============================] - 0s 21ms/step - loss: 74.8762 - val_loss: 805.2020\n",
      "Epoch 9/100\n",
      "5/5 [==============================] - 0s 18ms/step - loss: 60.0445 - val_loss: 615.8760\n",
      "Epoch 10/100\n",
      "5/5 [==============================] - 0s 17ms/step - loss: 34.4580 - val_loss: 464.5966\n",
      "Epoch 11/100\n",
      "5/5 [==============================] - 0s 16ms/step - loss: 38.7176 - val_loss: 442.3572\n",
      "Epoch 12/100\n",
      "5/5 [==============================] - 0s 18ms/step - loss: 50.2330 - val_loss: 387.4099\n",
      "Epoch 13/100\n",
      "5/5 [==============================] - 0s 16ms/step - loss: 35.8002 - val_loss: 247.4949\n",
      "Epoch 14/100\n",
      "5/5 [==============================] - 0s 18ms/step - loss: 47.3081 - val_loss: 295.9950\n",
      "Epoch 15/100\n",
      "5/5 [==============================] - 0s 15ms/step - loss: 156.4274 - val_loss: 238.7753\n",
      "Epoch 16/100\n",
      "5/5 [==============================] - 0s 15ms/step - loss: 40.1436 - val_loss: 233.0716\n",
      "Epoch 17/100\n",
      "5/5 [==============================] - 0s 13ms/step - loss: 31.1200 - val_loss: 171.9932\n",
      "Epoch 18/100\n",
      "5/5 [==============================] - 0s 14ms/step - loss: 47.3624 - val_loss: 119.6268\n",
      "Epoch 19/100\n",
      "5/5 [==============================] - 0s 20ms/step - loss: 37.3930 - val_loss: 129.2509\n",
      "Epoch 20/100\n",
      "5/5 [==============================] - 0s 25ms/step - loss: 25.4608 - val_loss: 173.8939\n",
      "Epoch 21/100\n",
      "5/5 [==============================] - 0s 15ms/step - loss: 144.9008 - val_loss: 86.7572\n",
      "Epoch 22/100\n",
      "5/5 [==============================] - 0s 14ms/step - loss: 36.5041 - val_loss: 103.8825\n",
      "Epoch 23/100\n",
      "5/5 [==============================] - 0s 15ms/step - loss: 43.0823 - val_loss: 99.0425\n",
      "Epoch 24/100\n",
      "5/5 [==============================] - 0s 13ms/step - loss: 38.8881 - val_loss: 76.9033\n",
      "Epoch 25/100\n",
      "5/5 [==============================] - 0s 14ms/step - loss: 27.7235 - val_loss: 171.1557\n",
      "Epoch 26/100\n",
      "5/5 [==============================] - 0s 15ms/step - loss: 44.1424 - val_loss: 78.2368\n",
      "Epoch 27/100\n",
      "5/5 [==============================] - 0s 13ms/step - loss: 76.2323 - val_loss: 71.6841\n",
      "Epoch 28/100\n",
      "5/5 [==============================] - 0s 14ms/step - loss: 39.0297 - val_loss: 48.9653\n",
      "Epoch 29/100\n",
      "5/5 [==============================] - 0s 13ms/step - loss: 43.5380 - val_loss: 120.1511\n",
      "Epoch 30/100\n",
      "5/5 [==============================] - 0s 13ms/step - loss: 85.7555 - val_loss: 58.2637\n",
      "Epoch 31/100\n",
      "5/5 [==============================] - 0s 14ms/step - loss: 69.7037 - val_loss: 46.2896\n",
      "Epoch 32/100\n",
      "5/5 [==============================] - 0s 14ms/step - loss: 28.9679 - val_loss: 74.2579\n",
      "Epoch 33/100\n",
      "5/5 [==============================] - 0s 18ms/step - loss: 38.0520 - val_loss: 61.2840\n",
      "Epoch 34/100\n",
      "5/5 [==============================] - 0s 20ms/step - loss: 26.4543 - val_loss: 57.1806\n",
      "Epoch 35/100\n",
      "5/5 [==============================] - 0s 21ms/step - loss: 53.2748 - val_loss: 53.2689\n",
      "Epoch 36/100\n",
      "5/5 [==============================] - 0s 27ms/step - loss: 34.0449 - val_loss: 42.4166\n",
      "Epoch 37/100\n",
      "5/5 [==============================] - 0s 20ms/step - loss: 24.7209 - val_loss: 39.9547\n",
      "Epoch 38/100\n",
      "5/5 [==============================] - 0s 18ms/step - loss: 27.3100 - val_loss: 38.2590\n",
      "Epoch 39/100\n",
      "5/5 [==============================] - 0s 21ms/step - loss: 66.0880 - val_loss: 40.7836\n",
      "Epoch 40/100\n",
      "5/5 [==============================] - 0s 20ms/step - loss: 26.9253 - val_loss: 31.4808\n",
      "Epoch 41/100\n",
      "5/5 [==============================] - 0s 19ms/step - loss: 28.2999 - val_loss: 32.0695\n",
      "Epoch 42/100\n",
      "5/5 [==============================] - 0s 27ms/step - loss: 28.1087 - val_loss: 19.9511\n",
      "Epoch 43/100\n",
      "5/5 [==============================] - 0s 24ms/step - loss: 34.4349 - val_loss: 37.9049\n",
      "Epoch 44/100\n",
      "5/5 [==============================] - 0s 22ms/step - loss: 47.5871 - val_loss: 32.1069\n",
      "Epoch 45/100\n",
      "5/5 [==============================] - 0s 21ms/step - loss: 29.9718 - val_loss: 28.6427\n",
      "Epoch 46/100\n",
      "5/5 [==============================] - 0s 22ms/step - loss: 37.7155 - val_loss: 20.7481\n",
      "Epoch 47/100\n",
      "5/5 [==============================] - 0s 26ms/step - loss: 25.0844 - val_loss: 32.0242\n",
      "Epoch 48/100\n",
      "5/5 [==============================] - 0s 20ms/step - loss: 47.0463 - val_loss: 34.4275\n",
      "Epoch 49/100\n",
      "5/5 [==============================] - 0s 19ms/step - loss: 29.5498 - val_loss: 58.9299\n",
      "Epoch 50/100\n",
      "5/5 [==============================] - 0s 25ms/step - loss: 70.7444 - val_loss: 20.1138\n",
      "Epoch 51/100\n",
      "5/5 [==============================] - 0s 21ms/step - loss: 24.5127 - val_loss: 27.3400\n",
      "Epoch 52/100\n",
      "5/5 [==============================] - 0s 27ms/step - loss: 63.6030 - val_loss: 31.5323\n",
      "Epoch 53/100\n",
      "5/5 [==============================] - 0s 28ms/step - loss: 28.8109 - val_loss: 40.3816\n",
      "Epoch 54/100\n",
      "5/5 [==============================] - 0s 25ms/step - loss: 41.6453 - val_loss: 19.2178\n",
      "Epoch 55/100\n",
      "5/5 [==============================] - 0s 23ms/step - loss: 25.8498 - val_loss: 27.5277\n",
      "Epoch 56/100\n",
      "5/5 [==============================] - 0s 30ms/step - loss: 33.4209 - val_loss: 24.9468\n",
      "Epoch 57/100\n",
      "5/5 [==============================] - 0s 20ms/step - loss: 38.3146 - val_loss: 24.5237\n",
      "Epoch 58/100\n",
      "5/5 [==============================] - 0s 23ms/step - loss: 39.0682 - val_loss: 17.9558\n",
      "Epoch 59/100\n",
      "5/5 [==============================] - 0s 35ms/step - loss: 38.2106 - val_loss: 22.4159\n",
      "Epoch 60/100\n",
      "5/5 [==============================] - 0s 26ms/step - loss: 24.4169 - val_loss: 26.4423\n",
      "Epoch 61/100\n",
      "5/5 [==============================] - 0s 20ms/step - loss: 28.9735 - val_loss: 29.0057\n",
      "Epoch 62/100\n",
      "5/5 [==============================] - 0s 30ms/step - loss: 50.4017 - val_loss: 24.6498\n",
      "Epoch 63/100\n",
      "5/5 [==============================] - 0s 28ms/step - loss: 27.7810 - val_loss: 35.7058\n",
      "Epoch 64/100\n",
      "5/5 [==============================] - 0s 19ms/step - loss: 52.9536 - val_loss: 23.8177\n",
      "Epoch 65/100\n",
      "5/5 [==============================] - 0s 20ms/step - loss: 29.5237 - val_loss: 46.0955\n",
      "Epoch 66/100\n",
      "5/5 [==============================] - 0s 17ms/step - loss: 70.8252 - val_loss: 22.0699\n",
      "Epoch 67/100\n",
      "5/5 [==============================] - 0s 21ms/step - loss: 37.1472 - val_loss: 21.1727\n",
      "Epoch 68/100\n",
      "5/5 [==============================] - 0s 20ms/step - loss: 35.7305 - val_loss: 29.6243\n",
      "Epoch 69/100\n",
      "5/5 [==============================] - 0s 26ms/step - loss: 53.4795 - val_loss: 25.9146\n",
      "Epoch 70/100\n",
      "5/5 [==============================] - 0s 23ms/step - loss: 26.9527 - val_loss: 19.9940\n",
      "Epoch 71/100\n",
      "5/5 [==============================] - 0s 23ms/step - loss: 37.6343 - val_loss: 37.8475\n",
      "Epoch 72/100\n",
      "5/5 [==============================] - 0s 25ms/step - loss: 48.0164 - val_loss: 23.6421\n",
      "Epoch 73/100\n",
      "5/5 [==============================] - 0s 24ms/step - loss: 27.3013 - val_loss: 20.8729\n",
      "Epoch 74/100\n",
      "5/5 [==============================] - 0s 20ms/step - loss: 35.1220 - val_loss: 33.7403\n",
      "Epoch 75/100\n",
      "5/5 [==============================] - 0s 20ms/step - loss: 55.5109 - val_loss: 17.2505\n",
      "Epoch 76/100\n",
      "5/5 [==============================] - 0s 35ms/step - loss: 27.0533 - val_loss: 22.7192\n",
      "Epoch 77/100\n",
      "5/5 [==============================] - 0s 16ms/step - loss: 30.1747 - val_loss: 24.7292\n",
      "Epoch 78/100\n",
      "5/5 [==============================] - 0s 17ms/step - loss: 28.5802 - val_loss: 40.7823\n",
      "Epoch 79/100\n",
      "5/5 [==============================] - 0s 20ms/step - loss: 88.1913 - val_loss: 21.3449\n",
      "Epoch 80/100\n",
      "5/5 [==============================] - 0s 18ms/step - loss: 50.2409 - val_loss: 34.4316\n",
      "Epoch 81/100\n",
      "5/5 [==============================] - 0s 18ms/step - loss: 55.0211 - val_loss: 22.0796\n",
      "Epoch 82/100\n",
      "5/5 [==============================] - 0s 26ms/step - loss: 26.7924 - val_loss: 22.6678\n",
      "Epoch 83/100\n",
      "5/5 [==============================] - 0s 24ms/step - loss: 26.1101 - val_loss: 32.3539\n",
      "Epoch 84/100\n",
      "5/5 [==============================] - 0s 23ms/step - loss: 25.5639 - val_loss: 38.4836\n",
      "Epoch 85/100\n",
      "5/5 [==============================] - 0s 25ms/step - loss: 116.4070 - val_loss: 48.2959\n",
      "Epoch 86/100\n",
      "5/5 [==============================] - 0s 20ms/step - loss: 34.1516 - val_loss: 19.2265\n",
      "Epoch 87/100\n",
      "5/5 [==============================] - 0s 37ms/step - loss: 48.0202 - val_loss: 20.5355\n",
      "Epoch 88/100\n",
      "5/5 [==============================] - 0s 22ms/step - loss: 30.2373 - val_loss: 35.3217\n",
      "Epoch 89/100\n",
      "5/5 [==============================] - 0s 24ms/step - loss: 31.8741 - val_loss: 24.9780\n",
      "Epoch 90/100\n",
      "5/5 [==============================] - 0s 24ms/step - loss: 31.5588 - val_loss: 17.7343\n",
      "Epoch 91/100\n",
      "5/5 [==============================] - 0s 18ms/step - loss: 33.2082 - val_loss: 32.8696\n",
      "Epoch 92/100\n",
      "5/5 [==============================] - 0s 17ms/step - loss: 32.6322 - val_loss: 54.2351\n",
      "Epoch 93/100\n",
      "5/5 [==============================] - 0s 18ms/step - loss: 51.2101 - val_loss: 21.9551\n",
      "Epoch 94/100\n",
      "5/5 [==============================] - 0s 17ms/step - loss: 27.0033 - val_loss: 30.4320\n",
      "Epoch 95/100\n",
      "5/5 [==============================] - 0s 17ms/step - loss: 36.5326 - val_loss: 47.8956\n",
      "Epoch 96/100\n",
      "5/5 [==============================] - 0s 19ms/step - loss: 35.2002 - val_loss: 20.0392\n",
      "Epoch 97/100\n",
      "5/5 [==============================] - 0s 17ms/step - loss: 24.2673 - val_loss: 18.9687\n",
      "Epoch 98/100\n",
      "5/5 [==============================] - 0s 19ms/step - loss: 24.6688 - val_loss: 18.4465\n",
      "Epoch 99/100\n",
      "5/5 [==============================] - 0s 26ms/step - loss: 24.4820 - val_loss: 18.0909\n",
      "Epoch 100/100\n",
      "5/5 [==============================] - 0s 31ms/step - loss: 22.4320 - val_loss: 35.2330\n"
     ]
    },
    {
     "data": {
      "text/plain": [
       "<tensorflow.python.keras.callbacks.History at 0x7fb00a9f14f0>"
      ]
     },
     "execution_count": 18,
     "metadata": {},
     "output_type": "execute_result"
    }
   ],
   "source": [
    "model.compile(optimizer=tf.keras.optimizers.SGD(0.001),\n",
    "             loss='mean_squared_error')\n",
    "model.fit(input_features, labels, validation_split=0.25, epochs=100, batch_size=64)"
   ]
  },
  {
   "cell_type": "markdown",
   "metadata": {},
   "source": [
    "### 加入正则化惩罚项"
   ]
  },
  {
   "cell_type": "code",
   "execution_count": 19,
   "metadata": {},
   "outputs": [
    {
     "name": "stdout",
     "output_type": "stream",
     "text": [
      "Epoch 1/100\n",
      "5/5 [==============================] - 1s 62ms/step - loss: 4412.0566 - val_loss: 2869.5552\n",
      "Epoch 2/100\n",
      "5/5 [==============================] - 0s 20ms/step - loss: 4316.1982 - val_loss: 2785.7463\n",
      "Epoch 3/100\n",
      "5/5 [==============================] - 0s 18ms/step - loss: 4147.1193 - val_loss: 2664.8555\n",
      "Epoch 4/100\n",
      "5/5 [==============================] - 0s 21ms/step - loss: 3853.4878 - val_loss: 2512.4958\n",
      "Epoch 5/100\n",
      "5/5 [==============================] - 0s 24ms/step - loss: 1685.3482 - val_loss: 2255.4373\n",
      "Epoch 6/100\n",
      "5/5 [==============================] - 0s 28ms/step - loss: 159.6936 - val_loss: 1356.8010\n",
      "Epoch 7/100\n",
      "5/5 [==============================] - 0s 33ms/step - loss: 55.7996 - val_loss: 1029.2374\n",
      "Epoch 8/100\n",
      "5/5 [==============================] - 0s 33ms/step - loss: 37.7754 - val_loss: 735.3165\n",
      "Epoch 9/100\n",
      "5/5 [==============================] - 0s 32ms/step - loss: 64.4726 - val_loss: 624.6925\n",
      "Epoch 10/100\n",
      "5/5 [==============================] - 0s 18ms/step - loss: 35.8500 - val_loss: 532.1317\n",
      "Epoch 11/100\n",
      "5/5 [==============================] - 0s 20ms/step - loss: 32.1979 - val_loss: 437.8251\n",
      "Epoch 12/100\n",
      "5/5 [==============================] - 0s 23ms/step - loss: 34.3535 - val_loss: 386.4853\n",
      "Epoch 13/100\n",
      "5/5 [==============================] - 0s 21ms/step - loss: 100.2687 - val_loss: 310.1253\n",
      "Epoch 14/100\n",
      "5/5 [==============================] - 0s 20ms/step - loss: 114.7221 - val_loss: 302.3769\n",
      "Epoch 15/100\n",
      "5/5 [==============================] - 0s 23ms/step - loss: 33.3470 - val_loss: 224.4424\n",
      "Epoch 16/100\n",
      "5/5 [==============================] - 0s 24ms/step - loss: 35.8513 - val_loss: 183.1702\n",
      "Epoch 17/100\n",
      "5/5 [==============================] - 0s 41ms/step - loss: 42.7539 - val_loss: 200.1987\n",
      "Epoch 18/100\n",
      "5/5 [==============================] - 0s 18ms/step - loss: 54.3030 - val_loss: 159.3440\n",
      "Epoch 19/100\n",
      "5/5 [==============================] - 0s 18ms/step - loss: 30.8408 - val_loss: 130.3154\n",
      "Epoch 20/100\n",
      "5/5 [==============================] - 0s 19ms/step - loss: 31.6369 - val_loss: 126.9457\n",
      "Epoch 21/100\n",
      "5/5 [==============================] - 0s 15ms/step - loss: 27.9857 - val_loss: 110.2993\n",
      "Epoch 22/100\n",
      "5/5 [==============================] - 0s 20ms/step - loss: 50.3429 - val_loss: 116.9738\n",
      "Epoch 23/100\n",
      "5/5 [==============================] - 0s 16ms/step - loss: 89.1704 - val_loss: 118.4683\n",
      "Epoch 24/100\n",
      "5/5 [==============================] - 0s 18ms/step - loss: 33.2690 - val_loss: 81.1458\n",
      "Epoch 25/100\n",
      "5/5 [==============================] - 0s 14ms/step - loss: 53.4679 - val_loss: 71.1038\n",
      "Epoch 26/100\n",
      "5/5 [==============================] - 0s 14ms/step - loss: 23.2830 - val_loss: 49.9930\n",
      "Epoch 27/100\n",
      "5/5 [==============================] - 0s 19ms/step - loss: 40.4862 - val_loss: 85.9793\n",
      "Epoch 28/100\n",
      "5/5 [==============================] - 0s 37ms/step - loss: 61.7744 - val_loss: 82.3178\n",
      "Epoch 29/100\n",
      "5/5 [==============================] - 0s 19ms/step - loss: 28.6651 - val_loss: 73.5978\n",
      "Epoch 30/100\n",
      "5/5 [==============================] - 0s 18ms/step - loss: 30.5065 - val_loss: 52.2185\n",
      "Epoch 31/100\n",
      "5/5 [==============================] - 0s 19ms/step - loss: 114.0991 - val_loss: 88.9591\n",
      "Epoch 32/100\n",
      "5/5 [==============================] - 0s 28ms/step - loss: 57.8397 - val_loss: 41.4693\n",
      "Epoch 33/100\n",
      "5/5 [==============================] - 0s 19ms/step - loss: 38.0546 - val_loss: 70.6878\n",
      "Epoch 34/100\n",
      "5/5 [==============================] - 0s 30ms/step - loss: 33.9522 - val_loss: 32.6395\n",
      "Epoch 35/100\n",
      "5/5 [==============================] - 0s 23ms/step - loss: 27.8533 - val_loss: 68.0262\n",
      "Epoch 36/100\n",
      "5/5 [==============================] - 0s 20ms/step - loss: 66.5091 - val_loss: 66.0066\n",
      "Epoch 37/100\n",
      "5/5 [==============================] - 0s 20ms/step - loss: 33.6444 - val_loss: 46.6262\n",
      "Epoch 38/100\n",
      "5/5 [==============================] - 0s 19ms/step - loss: 29.7882 - val_loss: 36.2999\n",
      "Epoch 39/100\n",
      "5/5 [==============================] - 0s 18ms/step - loss: 43.6735 - val_loss: 32.0188\n",
      "Epoch 40/100\n",
      "5/5 [==============================] - 0s 17ms/step - loss: 36.4549 - val_loss: 27.2452\n",
      "Epoch 41/100\n",
      "5/5 [==============================] - 0s 19ms/step - loss: 33.9235 - val_loss: 21.7063\n",
      "Epoch 42/100\n",
      "5/5 [==============================] - 0s 22ms/step - loss: 28.8156 - val_loss: 27.0078\n",
      "Epoch 43/100\n",
      "5/5 [==============================] - 0s 20ms/step - loss: 38.1056 - val_loss: 32.3412\n",
      "Epoch 44/100\n",
      "5/5 [==============================] - 0s 20ms/step - loss: 35.1491 - val_loss: 44.3092\n",
      "Epoch 45/100\n",
      "5/5 [==============================] - 0s 20ms/step - loss: 73.4387 - val_loss: 28.7504\n",
      "Epoch 46/100\n",
      "5/5 [==============================] - 0s 28ms/step - loss: 42.2413 - val_loss: 28.3106\n",
      "Epoch 47/100\n",
      "5/5 [==============================] - 0s 22ms/step - loss: 30.8058 - val_loss: 27.0622\n",
      "Epoch 48/100\n",
      "5/5 [==============================] - 0s 20ms/step - loss: 53.5767 - val_loss: 34.7601\n",
      "Epoch 49/100\n",
      "5/5 [==============================] - 0s 23ms/step - loss: 31.7529 - val_loss: 29.3839\n",
      "Epoch 50/100\n",
      "5/5 [==============================] - 0s 20ms/step - loss: 34.3192 - val_loss: 37.8547\n",
      "Epoch 51/100\n",
      "5/5 [==============================] - 0s 27ms/step - loss: 31.3325 - val_loss: 24.5068\n",
      "Epoch 52/100\n",
      "5/5 [==============================] - 0s 18ms/step - loss: 32.5085 - val_loss: 28.5984\n",
      "Epoch 53/100\n",
      "5/5 [==============================] - 0s 20ms/step - loss: 30.6866 - val_loss: 29.0460\n",
      "Epoch 54/100\n",
      "5/5 [==============================] - 0s 25ms/step - loss: 36.5761 - val_loss: 21.9837\n",
      "Epoch 55/100\n",
      "5/5 [==============================] - 0s 26ms/step - loss: 51.3591 - val_loss: 30.9385\n",
      "Epoch 56/100\n",
      "5/5 [==============================] - 0s 26ms/step - loss: 32.9901 - val_loss: 24.6413\n",
      "Epoch 57/100\n",
      "5/5 [==============================] - 0s 19ms/step - loss: 67.3452 - val_loss: 20.0145\n",
      "Epoch 58/100\n",
      "5/5 [==============================] - 0s 18ms/step - loss: 27.7341 - val_loss: 39.3264\n",
      "Epoch 59/100\n",
      "5/5 [==============================] - 0s 21ms/step - loss: 52.5949 - val_loss: 22.1730\n",
      "Epoch 60/100\n",
      "5/5 [==============================] - 0s 18ms/step - loss: 24.5368 - val_loss: 38.5674\n",
      "Epoch 61/100\n",
      "5/5 [==============================] - 0s 19ms/step - loss: 26.9304 - val_loss: 40.3541\n",
      "Epoch 62/100\n",
      "5/5 [==============================] - 0s 16ms/step - loss: 42.1259 - val_loss: 28.2922\n",
      "Epoch 63/100\n",
      "5/5 [==============================] - 0s 17ms/step - loss: 30.1409 - val_loss: 53.3826\n",
      "Epoch 64/100\n",
      "5/5 [==============================] - 0s 20ms/step - loss: 56.9292 - val_loss: 30.4563\n",
      "Epoch 65/100\n",
      "5/5 [==============================] - 0s 23ms/step - loss: 28.6563 - val_loss: 21.9234\n",
      "Epoch 66/100\n",
      "5/5 [==============================] - 0s 19ms/step - loss: 42.8370 - val_loss: 31.8100\n",
      "Epoch 67/100\n",
      "5/5 [==============================] - 0s 25ms/step - loss: 42.9116 - val_loss: 22.4547\n",
      "Epoch 68/100\n",
      "5/5 [==============================] - 0s 19ms/step - loss: 29.6922 - val_loss: 19.8438\n",
      "Epoch 69/100\n",
      "5/5 [==============================] - 0s 19ms/step - loss: 23.2993 - val_loss: 36.0426\n",
      "Epoch 70/100\n",
      "5/5 [==============================] - 0s 16ms/step - loss: 40.8271 - val_loss: 27.2875\n",
      "Epoch 71/100\n",
      "5/5 [==============================] - 0s 17ms/step - loss: 38.9160 - val_loss: 38.3043\n",
      "Epoch 72/100\n",
      "5/5 [==============================] - 0s 20ms/step - loss: 46.9622 - val_loss: 19.9861\n",
      "Epoch 73/100\n",
      "5/5 [==============================] - 0s 19ms/step - loss: 38.0470 - val_loss: 21.8188\n",
      "Epoch 74/100\n",
      "5/5 [==============================] - 0s 21ms/step - loss: 25.1647 - val_loss: 24.0347\n",
      "Epoch 75/100\n",
      "5/5 [==============================] - 0s 23ms/step - loss: 26.1900 - val_loss: 34.6534\n",
      "Epoch 76/100\n",
      "5/5 [==============================] - 0s 23ms/step - loss: 29.8866 - val_loss: 26.4080\n",
      "Epoch 77/100\n",
      "5/5 [==============================] - 0s 19ms/step - loss: 37.7708 - val_loss: 27.7204\n",
      "Epoch 78/100\n",
      "5/5 [==============================] - 0s 18ms/step - loss: 33.2734 - val_loss: 68.3792\n",
      "Epoch 79/100\n",
      "5/5 [==============================] - 0s 17ms/step - loss: 101.6817 - val_loss: 24.4982\n",
      "Epoch 80/100\n",
      "5/5 [==============================] - 0s 24ms/step - loss: 29.5082 - val_loss: 20.2881\n",
      "Epoch 81/100\n",
      "5/5 [==============================] - 0s 25ms/step - loss: 36.2748 - val_loss: 20.2183\n",
      "Epoch 82/100\n",
      "5/5 [==============================] - 0s 19ms/step - loss: 31.1062 - val_loss: 17.9922\n",
      "Epoch 83/100\n",
      "5/5 [==============================] - 0s 25ms/step - loss: 23.1701 - val_loss: 20.0914\n",
      "Epoch 84/100\n",
      "5/5 [==============================] - 0s 18ms/step - loss: 40.8664 - val_loss: 42.9409\n",
      "Epoch 85/100\n",
      "5/5 [==============================] - 0s 19ms/step - loss: 65.7970 - val_loss: 19.0434\n",
      "Epoch 86/100\n",
      "5/5 [==============================] - 0s 14ms/step - loss: 23.8770 - val_loss: 62.3558\n",
      "Epoch 87/100\n",
      "5/5 [==============================] - 0s 14ms/step - loss: 47.7319 - val_loss: 24.8665\n",
      "Epoch 88/100\n",
      "5/5 [==============================] - 0s 15ms/step - loss: 29.8762 - val_loss: 28.3334\n",
      "Epoch 89/100\n",
      "5/5 [==============================] - 0s 14ms/step - loss: 29.1494 - val_loss: 27.8709\n",
      "Epoch 90/100\n",
      "5/5 [==============================] - 0s 15ms/step - loss: 44.1759 - val_loss: 20.5452\n",
      "Epoch 91/100\n",
      "5/5 [==============================] - -0s -21731us/step - loss: 28.4560 - val_loss: 30.9178\n",
      "Epoch 92/100\n",
      "5/5 [==============================] - 0s 20ms/step - loss: 33.8842 - val_loss: 25.1010\n",
      "Epoch 93/100\n",
      "5/5 [==============================] - 0s 20ms/step - loss: 56.0981 - val_loss: 30.4788\n",
      "Epoch 94/100\n",
      "5/5 [==============================] - 0s 23ms/step - loss: 32.5289 - val_loss: 31.2905\n",
      "Epoch 95/100\n",
      "5/5 [==============================] - 0s 24ms/step - loss: 28.8835 - val_loss: 20.5534\n",
      "Epoch 96/100\n",
      "5/5 [==============================] - 0s 22ms/step - loss: 56.9192 - val_loss: 33.8201\n",
      "Epoch 97/100\n",
      "5/5 [==============================] - 0s 25ms/step - loss: 30.8791 - val_loss: 19.4032\n",
      "Epoch 98/100\n",
      "5/5 [==============================] - 0s 18ms/step - loss: 26.5823 - val_loss: 19.1495\n",
      "Epoch 99/100\n",
      "5/5 [==============================] - 0s 24ms/step - loss: 26.3391 - val_loss: 34.7637\n",
      "Epoch 100/100\n",
      "5/5 [==============================] - 0s 15ms/step - loss: 38.8127 - val_loss: 33.6099\n"
     ]
    },
    {
     "data": {
      "text/plain": [
       "<tensorflow.python.keras.callbacks.History at 0x7fb0099659d0>"
      ]
     },
     "execution_count": 19,
     "metadata": {},
     "output_type": "execute_result"
    }
   ],
   "source": [
    "model = tf.keras.Sequential()\n",
    "model.add(layers.Dense(16,kernel_initializer='random_normal',kernel_regularizer=tf.keras.regularizers.l2(0.03)))\n",
    "model.add(layers.Dense(32,kernel_initializer='random_normal',kernel_regularizer=tf.keras.regularizers.l2(0.03)))\n",
    "model.add(layers.Dense(1,kernel_initializer='random_normal',kernel_regularizer=tf.keras.regularizers.l2(0.03)))\n",
    "\n",
    "model.compile(optimizer=tf.keras.optimizers.SGD(0.001),\n",
    "             loss='mean_squared_error')\n",
    "model.fit(input_features, labels, validation_split=0.25, epochs=100, batch_size=64)"
   ]
  },
  {
   "cell_type": "markdown",
   "metadata": {},
   "source": [
    "### 预测模型结果"
   ]
  },
  {
   "cell_type": "code",
   "execution_count": 20,
   "metadata": {},
   "outputs": [],
   "source": [
    "predict = model.predict(input_features)"
   ]
  },
  {
   "cell_type": "code",
   "execution_count": 21,
   "metadata": {},
   "outputs": [
    {
     "data": {
      "text/plain": [
       "(348, 1)"
      ]
     },
     "execution_count": 21,
     "metadata": {},
     "output_type": "execute_result"
    }
   ],
   "source": [
    "predict.shape"
   ]
  },
  {
   "cell_type": "markdown",
   "metadata": {},
   "source": [
    "### 测试结果并进行展示"
   ]
  },
  {
   "cell_type": "code",
   "execution_count": 22,
   "metadata": {},
   "outputs": [],
   "source": [
    "# 转换日期格式\n",
    "dates = [str(int(year)) + '-' + str(int(month)) + '-' + str(int(day)) for year, month, day in zip(years, months, days)]\n",
    "dates = [datetime.datetime.strptime(date, '%Y-%m-%d') for date in dates]\n",
    "\n",
    "# 创建一个表格来存日期和其对应的标签数值\n",
    "true_data = pd.DataFrame(data = {'date': dates, 'actual': labels})\n",
    "\n",
    "# 同理，再创建一个来存日期和其对应的模型预测值\n",
    "months = features[:, feature_list.index('month')]\n",
    "days = features[:, feature_list.index('day')]\n",
    "years = features[:, feature_list.index('year')]\n",
    "\n",
    "test_dates = [str(int(year)) + '-' + str(int(month)) + '-' + str(int(day)) for year, month, day in zip(years, months, days)]\n",
    "\n",
    "test_dates = [datetime.datetime.strptime(date, '%Y-%m-%d') for date in test_dates]\n",
    "\n",
    "predictions_data = pd.DataFrame(data = {'date': test_dates, 'prediction': predict.reshape(-1)}) "
   ]
  },
  {
   "cell_type": "code",
   "execution_count": 24,
   "metadata": {},
   "outputs": [
    {
     "data": {
      "image/png": "[encoded data removed]",
      "text/plain": [
       "<Figure size 432x288 with 1 Axes>"
      ]
     },
     "metadata": {},
     "output_type": "display_data"
    }
   ],
   "source": [
    "# 真实值\n",
    "plt.plot(true_data['date'], true_data['actual'], 'b-', label = 'actual')\n",
    "\n",
    "# 预测值\n",
    "plt.plot(predictions_data['date'], predictions_data['prediction'], 'ro', label = 'prediction')\n",
    "plt.xticks(rotation = '60'); \n",
    "plt.legend()\n",
    "\n",
    "# 图名\n",
    "plt.xlabel('Date'); plt.ylabel('Maximum Temperature (F)'); plt.title('Actual and Predicted Values');\n"
   ]
  },
  {
   "cell_type": "code",
   "execution_count": null,
   "metadata": {
    "collapsed": true,
    "jupyter": {
     "outputs_hidden": true
    }
   },
   "outputs": [],
   "source": []
  },
  {
   "cell_type": "code",
   "execution_count": null,
   "metadata": {
    "collapsed": true,
    "jupyter": {
     "outputs_hidden": true
    }
   },
   "outputs": [],
   "source": []
  }
 ],
 "metadata": {
  "kernelspec": {
   "display_name": "python38",
   "language": "python",
   "name": "python38"
  },
  "language_info": {
   "codemirror_mode": {
    "name": "ipython",
    "version": 3
   },
   "file_extension": ".py",
   "mimetype": "text/x-python",
   "name": "python",
   "nbconvert_exporter": "python",
   "pygments_lexer": "ipython3",
   "version": "3.8.8"
  }
 },
 "nbformat": 4,
 "nbformat_minor": 4
}
