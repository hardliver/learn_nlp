{
 "cells": [
  {
   "cell_type": "markdown",
   "id": "cc3ae3d3-30f9-4a98-9996-c3ed5899dfad",
   "metadata": {},
   "source": [
    "[Migrating from Gensim 3.x to 4](https://github.com/RaRe-Technologies/gensim/wiki/Migrating-from-Gensim-3.x-to-4)"
   ]
  },
  {
   "cell_type": "code",
   "execution_count": 1,
   "id": "c6685e42-e2c0-482f-9f52-e21644ad3e22",
   "metadata": {},
   "outputs": [],
   "source": [
    "from gensim.models import word2vec\n",
    "import logging\n",
    "\n",
    "logging.basicConfig(format='%(asctime)s : %(levelname)s : %(message)s', level=logging.INFO)"
   ]
  },
  {
   "cell_type": "code",
   "execution_count": 2,
   "id": "e86f4118-0378-4998-85f6-bb28338b7a7c",
   "metadata": {},
   "outputs": [],
   "source": [
    "raw_sentences = ['the quick brown fox jumps over the lazy dogs', 'yoyoyo you go home now to sleep']"
   ]
  },
  {
   "cell_type": "code",
   "execution_count": 3,
   "id": "7d0de4a0-04d7-40e1-88d0-4bbf5423a843",
   "metadata": {},
   "outputs": [
    {
     "name": "stdout",
     "output_type": "stream",
     "text": [
      "[['the', 'quick', 'brown', 'fox', 'jumps', 'over', 'the', 'lazy', 'dogs'], ['yoyoyo', 'you', 'go', 'home', 'now', 'to', 'sleep']]\n"
     ]
    }
   ],
   "source": [
    "sentences = [s.split() for s in raw_sentences]\n",
    "print(sentences)"
   ]
  },
  {
   "cell_type": "code",
   "execution_count": 4,
   "id": "aa71dd0e-e0e4-4b50-8d4c-58f9b490d5bc",
   "metadata": {},
   "outputs": [
    {
     "name": "stderr",
     "output_type": "stream",
     "text": [
      "2021-04-26 08:07:44,776 : INFO : collecting all words and their counts\n",
      "2021-04-26 08:07:44,784 : INFO : PROGRESS: at sentence #0, processed 0 words, keeping 0 word types\n",
      "2021-04-26 08:07:44,787 : INFO : collected 15 word types from a corpus of 16 raw words and 2 sentences\n",
      "2021-04-26 08:07:44,797 : INFO : Creating a fresh vocabulary\n",
      "2021-04-26 08:07:44,876 : INFO : Word2Vec lifecycle event {'msg': 'effective_min_count=1 retains 15 unique words (100.0%% of original 15, drops 0)', 'datetime': '2021-04-26T08:07:44.799385', 'gensim': '4.0.1', 'python': '3.8.8 | packaged by conda-forge | (default, Feb 20 2021, 16:22:27) \\n[GCC 9.3.0]', 'platform': 'Linux-5.10.25-linuxkit-x86_64-with-glibc2.10', 'event': 'prepare_vocab'}\n",
      "2021-04-26 08:07:44,878 : INFO : Word2Vec lifecycle event {'msg': 'effective_min_count=1 leaves 16 word corpus (100.0%% of original 16, drops 0)', 'datetime': '2021-04-26T08:07:44.878312', 'gensim': '4.0.1', 'python': '3.8.8 | packaged by conda-forge | (default, Feb 20 2021, 16:22:27) \\n[GCC 9.3.0]', 'platform': 'Linux-5.10.25-linuxkit-x86_64-with-glibc2.10', 'event': 'prepare_vocab'}\n",
      "2021-04-26 08:07:44,880 : INFO : deleting the raw counts dictionary of 15 items\n",
      "2021-04-26 08:07:44,883 : INFO : sample=0.001 downsamples 15 most-common words\n",
      "2021-04-26 08:07:44,897 : INFO : Word2Vec lifecycle event {'msg': 'downsampling leaves estimated 2.1897609278942753 word corpus (13.7%% of prior 16)', 'datetime': '2021-04-26T08:07:44.897188', 'gensim': '4.0.1', 'python': '3.8.8 | packaged by conda-forge | (default, Feb 20 2021, 16:22:27) \\n[GCC 9.3.0]', 'platform': 'Linux-5.10.25-linuxkit-x86_64-with-glibc2.10', 'event': 'prepare_vocab'}\n",
      "2021-04-26 08:07:44,902 : INFO : estimated required memory for 15 words and 100 dimensions: 19500 bytes\n",
      "2021-04-26 08:07:44,903 : INFO : resetting layer weights\n",
      "2021-04-26 08:07:44,906 : INFO : Word2Vec lifecycle event {'update': False, 'trim_rule': 'None', 'datetime': '2021-04-26T08:07:44.906062', 'gensim': '4.0.1', 'python': '3.8.8 | packaged by conda-forge | (default, Feb 20 2021, 16:22:27) \\n[GCC 9.3.0]', 'platform': 'Linux-5.10.25-linuxkit-x86_64-with-glibc2.10', 'event': 'build_vocab'}\n",
      "2021-04-26 08:07:44,909 : INFO : Word2Vec lifecycle event {'msg': 'training model with 3 workers on 15 vocabulary and 100 features, using sg=0 hs=0 sample=0.001 negative=5 window=5', 'datetime': '2021-04-26T08:07:44.909211', 'gensim': '4.0.1', 'python': '3.8.8 | packaged by conda-forge | (default, Feb 20 2021, 16:22:27) \\n[GCC 9.3.0]', 'platform': 'Linux-5.10.25-linuxkit-x86_64-with-glibc2.10', 'event': 'train'}\n",
      "2021-04-26 08:07:44,926 : INFO : worker thread finished; awaiting finish of 2 more threads\n",
      "2021-04-26 08:07:44,928 : INFO : worker thread finished; awaiting finish of 1 more threads\n",
      "2021-04-26 08:07:44,932 : INFO : worker thread finished; awaiting finish of 0 more threads\n",
      "2021-04-26 08:07:44,937 : INFO : EPOCH - 1 : training on 16 raw words (2 effective words) took 0.0s, 185 effective words/s\n",
      "2021-04-26 08:07:44,952 : INFO : worker thread finished; awaiting finish of 2 more threads\n",
      "2021-04-26 08:07:44,953 : INFO : worker thread finished; awaiting finish of 1 more threads\n",
      "2021-04-26 08:07:44,954 : INFO : worker thread finished; awaiting finish of 0 more threads\n",
      "2021-04-26 08:07:44,956 : INFO : EPOCH - 2 : training on 16 raw words (3 effective words) took 0.0s, 751 effective words/s\n",
      "2021-04-26 08:07:44,975 : INFO : worker thread finished; awaiting finish of 2 more threads\n",
      "2021-04-26 08:07:44,976 : INFO : worker thread finished; awaiting finish of 1 more threads\n",
      "2021-04-26 08:07:44,977 : INFO : worker thread finished; awaiting finish of 0 more threads\n",
      "2021-04-26 08:07:44,979 : INFO : EPOCH - 3 : training on 16 raw words (1 effective words) took 0.0s, 280 effective words/s\n",
      "2021-04-26 08:07:44,991 : INFO : worker thread finished; awaiting finish of 2 more threads\n",
      "2021-04-26 08:07:44,992 : INFO : worker thread finished; awaiting finish of 1 more threads\n",
      "2021-04-26 08:07:44,995 : INFO : worker thread finished; awaiting finish of 0 more threads\n",
      "2021-04-26 08:07:45,003 : INFO : EPOCH - 4 : training on 16 raw words (2 effective words) took 0.0s, 165 effective words/s\n",
      "2021-04-26 08:07:45,012 : INFO : worker thread finished; awaiting finish of 2 more threads\n",
      "2021-04-26 08:07:45,016 : INFO : worker thread finished; awaiting finish of 1 more threads\n",
      "2021-04-26 08:07:45,018 : INFO : worker thread finished; awaiting finish of 0 more threads\n",
      "2021-04-26 08:07:45,019 : INFO : EPOCH - 5 : training on 16 raw words (2 effective words) took 0.0s, 289 effective words/s\n",
      "2021-04-26 08:07:45,021 : INFO : Word2Vec lifecycle event {'msg': 'training on 80 raw words (10 effective words) took 0.1s, 98 effective words/s', 'datetime': '2021-04-26T08:07:45.021285', 'gensim': '4.0.1', 'python': '3.8.8 | packaged by conda-forge | (default, Feb 20 2021, 16:22:27) \\n[GCC 9.3.0]', 'platform': 'Linux-5.10.25-linuxkit-x86_64-with-glibc2.10', 'event': 'train'}\n",
      "2021-04-26 08:07:45,024 : INFO : Word2Vec lifecycle event {'params': 'Word2Vec(vocab=15, vector_size=100, alpha=0.025)', 'datetime': '2021-04-26T08:07:45.024076', 'gensim': '4.0.1', 'python': '3.8.8 | packaged by conda-forge | (default, Feb 20 2021, 16:22:27) \\n[GCC 9.3.0]', 'platform': 'Linux-5.10.25-linuxkit-x86_64-with-glibc2.10', 'event': 'created'}\n"
     ]
    }
   ],
   "source": [
    "model = word2vec.Word2Vec(sentences, min_count=1)"
   ]
  },
  {
   "cell_type": "code",
   "execution_count": 5,
   "id": "b4dfec83-afdc-465d-9b4b-e700ddf844b9",
   "metadata": {},
   "outputs": [
    {
     "data": {
      "text/plain": [
       "0.00912656"
      ]
     },
     "execution_count": 5,
     "metadata": {},
     "output_type": "execute_result"
    }
   ],
   "source": [
    "# model.similarity('dogs', 'you')\n",
    "model.wv.similarity('dogs', 'you')"
   ]
  },
  {
   "cell_type": "markdown",
   "id": "1e07435d-f6b3-48a9-bbc1-c1a250f5a391",
   "metadata": {},
   "source": [
    "# min_count:\n",
    "###### 在不同大小的語料庫中，我們對於基準詞頻的需求也是不一樣的。譬如在較大的語料集中，我們希望忽略那些只出現過一次的單詞，這裡我們就可以通過設置min_count參數進行控制。一般而言，合理的參數值會設置在0~100之間"
   ]
  },
  {
   "cell_type": "markdown",
   "id": "773ae594-ca2a-4b44-9525-778778e937fb",
   "metadata": {},
   "source": [
    "# size -> vector_size\n",
    "###### size參數主要是用來設置神經網路的層數，Word2Vec中的默認值是設置為100層。更大的層次設置意味著更多的輸入數據，不過也能提升整體的準確度，合理的範圍為10~數百"
   ]
  },
  {
   "cell_type": "code",
   "execution_count": null,
   "id": "38dcbfa6-6d60-4de2-a1e3-8f38401ed8f8",
   "metadata": {},
   "outputs": [],
   "source": []
  }
 ],
 "metadata": {
  "kernelspec": {
   "display_name": "Python 3",
   "language": "python",
   "name": "python3"
  },
  "language_info": {
   "codemirror_mode": {
    "name": "ipython",
    "version": 3
   },
   "file_extension": ".py",
   "mimetype": "text/x-python",
   "name": "python",
   "nbconvert_exporter": "python",
   "pygments_lexer": "ipython3",
   "version": "3.8.8"
  }
 },
 "nbformat": 4,
 "nbformat_minor": 5
}
