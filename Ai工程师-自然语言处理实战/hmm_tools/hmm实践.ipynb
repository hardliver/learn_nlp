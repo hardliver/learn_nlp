{
 "cells": [
  {
   "cell_type": "code",
   "execution_count": 1,
   "metadata": {
    "tags": []
   },
   "outputs": [],
   "source": [
    "import numpy as np\n",
    "from hmmlearn import hmm\n",
    "#http://hmmlearn.readthedocs.io/en/latest/"
   ]
  },
  {
   "cell_type": "markdown",
   "metadata": {},
   "source": [
    "隐藏状态：3个盒子"
   ]
  },
  {
   "cell_type": "code",
   "execution_count": 2,
   "metadata": {
    "tags": []
   },
   "outputs": [],
   "source": [
    "states = [\"box 1\", \"box 2\", \"box3\"]\n",
    "n_states = len(states)"
   ]
  },
  {
   "cell_type": "markdown",
   "metadata": {},
   "source": [
    "观测状态：2种球"
   ]
  },
  {
   "cell_type": "code",
   "execution_count": 3,
   "metadata": {
    "tags": []
   },
   "outputs": [],
   "source": [
    "observations = [\"red\", \"white\"]\n",
    "n_observations = len(observations)"
   ]
  },
  {
   "cell_type": "markdown",
   "metadata": {},
   "source": [
    "模型参数"
   ]
  },
  {
   "cell_type": "code",
   "execution_count": 4,
   "metadata": {
    "tags": []
   },
   "outputs": [],
   "source": [
    "start_probability = np.array([0.2, 0.4, 0.4])\n",
    "\n",
    "transition_probability = np.array([\n",
    "  [0.5, 0.2, 0.3],\n",
    "  [0.3, 0.5, 0.2],\n",
    "  [0.2, 0.3, 0.5]\n",
    "])\n",
    "\n",
    "emission_probability = np.array([\n",
    "  [0.5, 0.5],\n",
    "  [0.4, 0.6],\n",
    "  [0.7, 0.3]\n",
    "])\n"
   ]
  },
  {
   "cell_type": "code",
   "execution_count": 5,
   "metadata": {},
   "outputs": [],
   "source": [
    "#用于离散观测状态\n",
    "model = hmm.MultinomialHMM(n_components=n_states)\n",
    "\n",
    "model.startprob_=start_probability\n",
    "model.transmat_=transition_probability\n",
    "model.emissionprob_=emission_probability"
   ]
  },
  {
   "cell_type": "markdown",
   "metadata": {},
   "source": [
    "### 维特比算法，看到的是[0,1,0]"
   ]
  },
  {
   "cell_type": "code",
   "execution_count": 6,
   "metadata": {},
   "outputs": [],
   "source": [
    "seen = np.array([[0,1,0]]).T"
   ]
  },
  {
   "cell_type": "code",
   "execution_count": 7,
   "metadata": {},
   "outputs": [],
   "source": [
    "logprob, box = model.decode(seen, algorithm=\"viterbi\")"
   ]
  },
  {
   "cell_type": "markdown",
   "metadata": {},
   "source": [
    "得到的结果跟我们算的是一样的"
   ]
  },
  {
   "cell_type": "code",
   "execution_count": 8,
   "metadata": {},
   "outputs": [
    {
     "name": "stdout",
     "output_type": "stream",
     "text": [
      "['box3' 'box3' 'box3']\n"
     ]
    }
   ],
   "source": [
    "print (np.array(states)[box])"
   ]
  },
  {
   "cell_type": "markdown",
   "metadata": {},
   "source": [
    "predict也可以"
   ]
  },
  {
   "cell_type": "code",
   "execution_count": 9,
   "metadata": {},
   "outputs": [
    {
     "name": "stdout",
     "output_type": "stream",
     "text": [
      "['box3' 'box3' 'box3']\n"
     ]
    }
   ],
   "source": [
    "box2 = model.predict(seen)\n",
    "print (np.array(states)[box2])"
   ]
  },
  {
   "cell_type": "markdown",
   "metadata": {},
   "source": [
    "得到观测序列的概率 ln0.13022≈−2.0385"
   ]
  },
  {
   "cell_type": "code",
   "execution_count": 10,
   "metadata": {},
   "outputs": [
    {
     "name": "stdout",
     "output_type": "stream",
     "text": [
      "-2.038545309915233\n"
     ]
    }
   ],
   "source": [
    "print (model.score(seen))"
   ]
  },
  {
   "cell_type": "markdown",
   "metadata": {},
   "source": [
    "### EM算法求解模型参数"
   ]
  },
  {
   "cell_type": "markdown",
   "metadata": {},
   "source": [
    "tol : 停机阈值\n",
    "n_iter : 最大迭代次数 \n",
    "n_components : 隐藏状态数目 "
   ]
  },
  {
   "cell_type": "code",
   "execution_count": 11,
   "metadata": {},
   "outputs": [
    {
     "name": "stdout",
     "output_type": "stream",
     "text": [
      "startprob_ [7.24942071e-23 9.11073358e-17 1.00000000e+00]\n",
      "-----------------------------------------\n",
      "transmat_ [[3.14199564e-01 2.01910231e-01 4.83890205e-01]\n",
      " [6.67797116e-02 5.71860821e-02 8.76034206e-01]\n",
      " [6.24859337e-01 3.75140661e-01 1.97242509e-09]]\n",
      "-----------------------------------------\n",
      "emissionprob_ [[5.24946307e-02 9.47505369e-01]\n",
      " [3.22128196e-01 6.77871804e-01]\n",
      " [9.99984992e-01 1.50077992e-05]]\n",
      "-----------------------------------------\n",
      "score -6.381440107469127\n"
     ]
    }
   ],
   "source": [
    "model2 = hmm.MultinomialHMM(n_components=n_states, n_iter=20, tol=0.01)\n",
    "X2 = np.array([[0,1,0,1],[0,0,0,1],[1,0,1,1]])\n",
    "model2.fit(X2)\n",
    "\n",
    "print ('startprob_',model2.startprob_)\n",
    "print ('-----------------------------------------')\n",
    "print ('transmat_',model2.transmat_)\n",
    "print ('-----------------------------------------')\n",
    "print ('emissionprob_',model2.emissionprob_)\n",
    "print ('-----------------------------------------')\n",
    "print ('score',model2.score(X2))"
   ]
  },
  {
   "cell_type": "code",
   "execution_count": null,
   "metadata": {},
   "outputs": [],
   "source": []
  }
 ],
 "metadata": {
  "kernelspec": {
   "display_name": "Python 3",
   "language": "python",
   "name": "python3"
  },
  "language_info": {
   "codemirror_mode": {
    "name": "ipython",
    "version": 3
   },
   "file_extension": ".py",
   "mimetype": "text/x-python",
   "name": "python",
   "nbconvert_exporter": "python",
   "pygments_lexer": "ipython3",
   "version": "3.8.8"
  }
 },
 "nbformat": 4,
 "nbformat_minor": 4
}
